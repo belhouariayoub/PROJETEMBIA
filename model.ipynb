{
  "nbformat": 4,
  "nbformat_minor": 0,
  "metadata": {
    "colab": {
      "provenance": [],
      "collapsed_sections": [],
      "mount_file_id": "1XbpEWzM3Cd07KVei6LnTWYQfK6keZwmY",
      "authorship_tag": "ABX9TyNL4ZjI9fGi1rO53LiyYH0u",
      "include_colab_link": true
    },
    "kernelspec": {
      "name": "python3",
      "display_name": "Python 3"
    },
    "language_info": {
      "name": "python"
    }
  },
  "cells": [
    {
      "cell_type": "markdown",
      "metadata": {
        "id": "view-in-github",
        "colab_type": "text"
      },
      "source": [
        "<a href=\"https://colab.research.google.com/github/belhouariayoub/PROJETEMBIA/blob/main/model.ipynb\" target=\"_parent\"><img src=\"https://colab.research.google.com/assets/colab-badge.svg\" alt=\"Open In Colab\"/></a>"
      ]
    },
    {
      "cell_type": "code",
      "source": [
        "import sys, os, array, time\n",
        "import numpy as np\n",
        "import matplotlib.pyplot as plt\n",
        "import IPython\n",
        "\n",
        "import tensorflow as tf\n",
        "from tensorflow import keras\n",
        "from tensorflow.keras import layers, models\n",
        "from keras.layers import Dropout,Dense\n",
        "from sklearn.model_selection import train_test_split\n",
        "from tensorflow.python.ops.gen_array_ops import mirror_pad_eager_fallback\n"
      ],
      "metadata": {
        "id": "CvyhsZYdvph0"
      },
      "execution_count": 1,
      "outputs": []
    },
    {
      "cell_type": "code",
      "source": [
        "def build_model():\n",
        "\n",
        " \n",
        "        # Small CNN for MNIST recognition\n",
        "        model = models.Sequential()\n",
        "        \n",
        "        # Dense layer\n",
        "        model.add(layers.Conv2D(32, (3, 3), activation='relu',padding='same', input_shape=(62,64,3)))\n",
        "       # model.add(layers.MaxPooling2D((2, 2), padding='valid'))\n",
        "\n",
        "\n",
        "        model.add(layers.Conv2D(32, (3, 3), activation='relu'))\n",
        "        model.add(layers.MaxPooling2D((2, 2), padding='valid'))\n",
        "        model.add(Dropout(0.2))     \n",
        "\n",
        "       \n",
        "\n",
        "        model.add(layers.Conv2D(64, (3, 3), padding='same', activation='relu'))\n",
        "      #  model.add(layers.MaxPooling2D((2, 2), padding='valid'))\n",
        "       # model.add(Dropout(0.2))     \n",
        "\n",
        "\n",
        "        model.add(layers.Conv2D(64, (3, 3), padding='same', activation='relu'))\n",
        "        model.add(layers.MaxPooling2D((2, 2), padding='valid'))\n",
        "        model.add(Dropout(0.2)) \n",
        "\n",
        "        model.add(layers.Flatten())\n",
        "        model.add(layers.Dense(512, activation='relu'))\n",
        "        model.add(Dropout(0.2))    \n",
        "              \n",
        "        # Output layer\n",
        "        model.add(layers.Dense(4, activation='softmax'))\n",
        "        model.summary()  \n",
        "     \n",
        "\n",
        "\n",
        "        return model\n"
      ],
      "metadata": {
        "id": "huGhR0uE_1CI"
      },
      "execution_count": 4,
      "outputs": []
    },
    {
      "cell_type": "code",
      "source": [
        "from google.colab import drive\n",
        "drive.mount('/content/drive')\n",
        "%cd \"/content/drive/MyDrive/EMBEDDEDIA\""
      ],
      "metadata": {
        "id": "FqC6t6MUdfxJ"
      },
      "execution_count": null,
      "outputs": []
    },
    {
      "cell_type": "code",
      "source": [
        "!ls"
      ],
      "metadata": {
        "colab": {
          "base_uri": "https://localhost:8080/"
        },
        "id": "9YGwlfUE-k69",
        "outputId": "673b600a-98ed-40d1-a6d5-9cc48773318b"
      },
      "execution_count": 6,
      "outputs": [
        {
          "output_type": "stream",
          "name": "stdout",
          "text": [
            "Saline_bottle_original_size\t test.h5     Y_data.npy\n",
            "Saline_bottle_original_size_50%  X_data.npy\n"
          ]
        }
      ]
    },
    {
      "cell_type": "code",
      "source": [
        "X_data = []\n",
        "Y_data = []\n",
        "X_data=np.load('X_data.npy')\n",
        "Y_data=np.load('Y_data.npy')\n",
        "\n",
        "x_train,x_test,y_train,y_test = train_test_split(X_data,Y_data, test_size=0.20, random_state=4)\n",
        "x_train.reshape(64,64,3,-1)\n",
        "x_test.reshape(64,64,3,-1)\n",
        "y_train=y_train.reshape(y_train.shape[0],1)\n",
        "y_test=y_test.reshape(y_test.shape[0],1)\n",
        "\n",
        "\n",
        "# Small CNN for MNIST recognition\n",
        "model = models.Sequential()\n",
        "        \n",
        "# Dense layer\n",
        "model.add(layers.Conv2D(32, (3, 3), activation='relu',padding='same', input_shape=(64,64,3)))\n",
        "# model.add(layers.MaxPooling2D((2, 2), padding='valid'))\n",
        "\n",
        "model.add(layers.Conv2D(32, (3, 3), activation='relu'))\n",
        "model.add(layers.MaxPooling2D((2, 2), padding='valid'))\n",
        "model.add(Dropout(0.2))     \n",
        "model.add(layers.Conv2D(64, (3, 3), padding='same', activation='relu'))\n",
        "model.add(layers.Conv2D(64, (3, 3), padding='same', activation='relu'))\n",
        "model.add(layers.MaxPooling2D((2, 2), padding='valid'))\n",
        "model.add(Dropout(0.2)) \n",
        "model.add(layers.Flatten())\n",
        "model.add(layers.Dense(512, activation='relu'))\n",
        "model.add(Dropout(0.2))    \n",
        "model.add(layers.Dense(4, activation='softmax'))\n",
        "model.summary()\n",
        "model.compile(optimizer='adam',loss=tf.keras.losses.SparseCategoricalCrossentropy(from_logits=True),metrics=['accuracy'])\n",
        "history = model.fit(x_train,y_train, epochs=20, validation_data=(x_test,y_test))"
      ],
      "metadata": {
        "colab": {
          "base_uri": "https://localhost:8080/"
        },
        "id": "qg6qxJWsXsii",
        "outputId": "6945ffc1-4e3b-4b05-ae2d-b63240a8b0e0"
      },
      "execution_count": 13,
      "outputs": [
        {
          "output_type": "stream",
          "name": "stdout",
          "text": [
            "Model: \"sequential_3\"\n",
            "_________________________________________________________________\n",
            " Layer (type)                Output Shape              Param #   \n",
            "=================================================================\n",
            " conv2d_12 (Conv2D)          (None, 64, 64, 32)        896       \n",
            "                                                                 \n",
            " conv2d_13 (Conv2D)          (None, 62, 62, 32)        9248      \n",
            "                                                                 \n",
            " max_pooling2d_6 (MaxPooling  (None, 31, 31, 32)       0         \n",
            " 2D)                                                             \n",
            "                                                                 \n",
            " dropout_9 (Dropout)         (None, 31, 31, 32)        0         \n",
            "                                                                 \n",
            " conv2d_14 (Conv2D)          (None, 31, 31, 64)        18496     \n",
            "                                                                 \n",
            " conv2d_15 (Conv2D)          (None, 31, 31, 64)        36928     \n",
            "                                                                 \n",
            " max_pooling2d_7 (MaxPooling  (None, 15, 15, 64)       0         \n",
            " 2D)                                                             \n",
            "                                                                 \n",
            " dropout_10 (Dropout)        (None, 15, 15, 64)        0         \n",
            "                                                                 \n",
            " flatten_3 (Flatten)         (None, 14400)             0         \n",
            "                                                                 \n",
            " dense_6 (Dense)             (None, 512)               7373312   \n",
            "                                                                 \n",
            " dropout_11 (Dropout)        (None, 512)               0         \n",
            "                                                                 \n",
            " dense_7 (Dense)             (None, 4)                 2052      \n",
            "                                                                 \n",
            "=================================================================\n",
            "Total params: 7,440,932\n",
            "Trainable params: 7,440,932\n",
            "Non-trainable params: 0\n",
            "_________________________________________________________________\n",
            "Epoch 1/20\n",
            "106/106 [==============================] - 67s 626ms/step - loss: 18.3310 - accuracy: 0.2511 - val_loss: 1.3857 - val_accuracy: 0.2512\n",
            "Epoch 2/20\n",
            "106/106 [==============================] - 66s 625ms/step - loss: 1.3861 - accuracy: 0.2550 - val_loss: 1.3858 - val_accuracy: 0.2512\n",
            "Epoch 3/20\n",
            "106/106 [==============================] - 64s 607ms/step - loss: 1.3880 - accuracy: 0.2476 - val_loss: 1.3866 - val_accuracy: 0.2500\n",
            "Epoch 4/20\n",
            "106/106 [==============================] - 66s 623ms/step - loss: 1.3866 - accuracy: 0.2443 - val_loss: 1.3867 - val_accuracy: 0.2500\n",
            "Epoch 5/20\n",
            "106/106 [==============================] - 64s 605ms/step - loss: 1.3867 - accuracy: 0.2562 - val_loss: 1.3865 - val_accuracy: 0.2464\n",
            "Epoch 6/20\n",
            "106/106 [==============================] - 66s 623ms/step - loss: 1.3869 - accuracy: 0.2464 - val_loss: 1.3863 - val_accuracy: 0.2512\n",
            "Epoch 7/20\n",
            "106/106 [==============================] - 67s 633ms/step - loss: 1.3893 - accuracy: 0.2461 - val_loss: 1.3866 - val_accuracy: 0.2464\n",
            "Epoch 8/20\n",
            "106/106 [==============================] - 64s 608ms/step - loss: 1.3869 - accuracy: 0.2410 - val_loss: 1.3867 - val_accuracy: 0.2464\n",
            "Epoch 9/20\n",
            "106/106 [==============================] - 66s 623ms/step - loss: 1.3866 - accuracy: 0.2547 - val_loss: 1.3866 - val_accuracy: 0.2393\n",
            "Epoch 10/20\n",
            "106/106 [==============================] - 64s 605ms/step - loss: 1.3866 - accuracy: 0.2517 - val_loss: 1.3866 - val_accuracy: 0.2393\n",
            "Epoch 11/20\n",
            "106/106 [==============================] - 66s 622ms/step - loss: 1.3867 - accuracy: 0.2369 - val_loss: 1.3866 - val_accuracy: 0.2393\n",
            "Epoch 12/20\n",
            "106/106 [==============================] - 66s 623ms/step - loss: 1.3862 - accuracy: 0.2538 - val_loss: 1.3863 - val_accuracy: 0.2216\n",
            "Epoch 13/20\n",
            "106/106 [==============================] - 64s 605ms/step - loss: 1.3870 - accuracy: 0.2407 - val_loss: 1.3866 - val_accuracy: 0.2464\n",
            "Epoch 14/20\n",
            "106/106 [==============================] - 66s 621ms/step - loss: 1.3866 - accuracy: 0.2431 - val_loss: 1.3866 - val_accuracy: 0.2393\n",
            "Epoch 15/20\n",
            "106/106 [==============================] - 64s 604ms/step - loss: 1.3866 - accuracy: 0.2493 - val_loss: 1.3868 - val_accuracy: 0.2393\n",
            "Epoch 16/20\n",
            "106/106 [==============================] - 66s 622ms/step - loss: 1.3866 - accuracy: 0.2520 - val_loss: 1.3866 - val_accuracy: 0.2393\n",
            "Epoch 17/20\n",
            "106/106 [==============================] - 65s 616ms/step - loss: 1.3870 - accuracy: 0.2428 - val_loss: 1.3866 - val_accuracy: 0.2393\n",
            "Epoch 18/20\n",
            "106/106 [==============================] - 65s 610ms/step - loss: 1.3863 - accuracy: 0.2366 - val_loss: 1.3865 - val_accuracy: 0.2464\n",
            "Epoch 19/20\n",
            "106/106 [==============================] - 70s 661ms/step - loss: 1.3869 - accuracy: 0.2529 - val_loss: 1.3868 - val_accuracy: 0.2393\n",
            "Epoch 20/20\n",
            "106/106 [==============================] - 65s 611ms/step - loss: 1.3868 - accuracy: 0.2446 - val_loss: 1.3864 - val_accuracy: 0.2393\n"
          ]
        }
      ]
    },
    {
      "cell_type": "code",
      "source": [
        "plt.plot(history.history['accuracy'], label='accuracy')\n",
        "plt.plot(history.history['val_accuracy'], label = 'val_accuracy')\n",
        "plt.xlabel('Epoch')\n",
        "plt.ylabel('Accuracy')\n",
        "plt.ylim([0.5, 1])\n",
        "plt.legend(loc='lower right')\n",
        "\n",
        "test_loss, test_acc = model.evaluate(x_test,y_test, verbose=2)"
      ],
      "metadata": {
        "colab": {
          "base_uri": "https://localhost:8080/",
          "height": 301
        },
        "id": "qt8E3j8diHzh",
        "outputId": "0c1b442c-11fd-4ec2-b291-7d016ad2b84b"
      },
      "execution_count": 12,
      "outputs": [
        {
          "output_type": "stream",
          "name": "stdout",
          "text": [
            "27/27 - 3s - loss: 0.4614 - accuracy: 0.8898 - 3s/epoch - 125ms/step\n"
          ]
        },
        {
          "output_type": "display_data",
          "data": {
            "text/plain": [
              "<Figure size 432x288 with 1 Axes>"
            ],
            "image/png": "[encoded data removed]"
          },
          "metadata": {
            "needs_background": "light"
          }
        }
      ]
    },
    {
      "cell_type": "code",
      "source": [
        "model.save_weights('test.h5')\n"
      ],
      "metadata": {
        "id": "Ls5y_DjsJDZw"
      },
      "execution_count": null,
      "outputs": []
    }
  ]
}