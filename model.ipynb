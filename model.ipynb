{
  "nbformat": 4,
  "nbformat_minor": 0,
  "metadata": {
    "colab": {
      "provenance": [],
      "collapsed_sections": [],
      "mount_file_id": "1XbpEWzM3Cd07KVei6LnTWYQfK6keZwmY",
      "authorship_tag": "ABX9TyMM7SoTcB1IVYJ13bqGNdYq",
      "include_colab_link": true
    },
    "kernelspec": {
      "name": "python3",
      "display_name": "Python 3"
    },
    "language_info": {
      "name": "python"
    }
  },
  "cells": [
    {
      "cell_type": "markdown",
      "metadata": {
        "id": "view-in-github",
        "colab_type": "text"
      },
      "source": [
        "<a href=\"https://colab.research.google.com/github/belhouariayoub/PROJETEMBIA/blob/main/model.ipynb\" target=\"_parent\"><img src=\"https://colab.research.google.com/assets/colab-badge.svg\" alt=\"Open In Colab\"/></a>"
      ]
    },
    {
      "cell_type": "code",
      "source": [
        "import sys, os, array, time\n",
        "import numpy as np\n",
        "import matplotlib.pyplot as plt\n",
        "import IPython\n",
        "\n",
        "import tensorflow as tf\n",
        "from tensorflow import keras\n",
        "from tensorflow.keras import layers, models\n",
        "from keras.layers import Dropout,Dense\n",
        "from sklearn.model_selection import train_test_split\n",
        "from tensorflow.python.ops.gen_array_ops import mirror_pad_eager_fallback\n",
        "\n",
        "from sklearn.utils import shuffle\n",
        "\n",
        "from keras.preprocessing.image import ImageDataGenerator"
      ],
      "metadata": {
        "id": "CvyhsZYdvph0"
      },
      "execution_count": null,
      "outputs": []
    },
    {
      "cell_type": "code",
      "source": [
        "from google.colab import drive\n",
        "drive.mount('/content/drive')\n",
        "%cd \"/content/drive/MyDrive/EMBEDDEDIA/Saline_bottle_original_size/\""
      ],
      "metadata": {
        "id": "FqC6t6MUdfxJ",
        "colab": {
          "base_uri": "https://localhost:8080/"
        },
        "outputId": "2d4678f0-2a63-44a6-8725-50602d9688f9"
      },
      "execution_count": null,
      "outputs": [
        {
          "output_type": "stream",
          "name": "stdout",
          "text": [
            "Drive already mounted at /content/drive; to attempt to forcibly remount, call drive.mount(\"/content/drive\", force_remount=True).\n",
            "/content/drive/MyDrive/EMBEDDEDIA/Saline_bottle_original_size\n"
          ]
        }
      ]
    },
    {
      "cell_type": "code",
      "source": [
        "!ls"
      ],
      "metadata": {
        "colab": {
          "base_uri": "https://localhost:8080/"
        },
        "id": "9YGwlfUE-k69",
        "outputId": "36b99bb4-e637-4ca4-8c6c-c5c9ea458c97"
      },
      "execution_count": null,
      "outputs": [
        {
          "output_type": "stream",
          "name": "stdout",
          "text": [
            " data_label   resize_sal_data_augmented   test3.jpg  't=y_test.npy'   Y_org.npy\n",
            " Model2.h5    resize_sal_data_temp_del\t  test4.jpg   X_org.npy\n",
            " Model.h5     test1.jpg\t\t\t  test.jpg    x_test.npy\n"
          ]
        }
      ]
    },
    {
      "cell_type": "code",
      "source": [
        "X_data = []\n",
        "Y_data = []\n",
        "X_data=np.load('X_org.npy')/255\n",
        "Y_data=np.load('Y_org.npy')\n",
        "X, Y = shuffle(X_data,Y_data)\n",
        "x_train,x_test,y_train,y_test = train_test_split(X,Y,random_state=0)\n",
        "#x_train=x_train.reshape(-1,64,64,3)\n",
        "#x_test=x_test.reshape(-1,64,64,3)\n",
        "y_train=y_train.reshape(y_train.shape[0],1)\n",
        "y_test=y_test.reshape(y_test.shape[0],1)\n",
        "#x_train=np.reshape(x_train,(3162,-1))\n",
        "\n",
        "\n",
        "########\n",
        "datagen = ImageDataGenerator(\n",
        "        featurewise_center=False,  # set input mean to 0 over the dataset\n",
        "        samplewise_center=False,  # set each sample mean to 0\n",
        "        featurewise_std_normalization=False,  # divide inputs by std of the dataset\n",
        "        samplewise_std_normalization=False,  # divide each input by its std\n",
        "        zca_whitening=False,  # apply ZCA whitening\n",
        "        rotation_range=10,  # randomly rotate images in the range (degrees, 0 to 180)\n",
        "        zoom_range = 0.1, # Randomly zoom image \n",
        "        width_shift_range=0.2,  # randomly shift images horizontally (fraction of total width)\n",
        "        height_shift_range=0.2,  # randomly shift images vertically (fraction of total height)\n",
        "        horizontal_flip=True,  # randomly flip images\n",
        "        vertical_flip=False)  # randomly flip images\n",
        "\n",
        "\n",
        "datagen.fit(x_train)"
      ],
      "metadata": {
        "id": "qg6qxJWsXsii"
      },
      "execution_count": null,
      "outputs": []
    },
    {
      "cell_type": "code",
      "source": [
        "x_train[0].shape"
      ],
      "metadata": {
        "colab": {
          "base_uri": "https://localhost:8080/"
        },
        "id": "K0F5BPGHaAit",
        "outputId": "48f2593a-4289-4b8c-938c-31b2cd441f9e"
      },
      "execution_count": null,
      "outputs": [
        {
          "output_type": "execute_result",
          "data": {
            "text/plain": [
              "(64, 64, 3)"
            ]
          },
          "metadata": {},
          "execution_count": 19
        }
      ]
    },
    {
      "cell_type": "code",
      "source": [
        "# Small CNN for MNIST recognition\n",
        "model = models.Sequential()\n",
        "# Dense layer\n",
        "#model.add(data_augmentation)\n",
        "model.add(layers.Conv2D(32, (3, 3), activation='relu',padding='same', input_shape=(64,64,3)))\n",
        "model.add(layers.MaxPooling2D((2, 2), padding='valid'))\n",
        "\n",
        "model.add(layers.Conv2D(32, (3, 3), activation='relu'))\n",
        "#spacial dropout\n",
        "model.add(layers.SpatialDropout2D(0.2)) \n",
        "model.add(layers.MaxPooling2D((2, 2), padding='valid'))\n",
        "#model.add(Dropout(0.2))     \n",
        "model.add(layers.Conv2D(64, (3, 3), padding='same', activation='relu'))\n",
        "model.add(layers.Conv2D(64, (3, 3), padding='same', activation='relu'))\n",
        "model.add(layers.MaxPooling2D((2, 2), padding='valid'))\n",
        "model.add(Dropout(0.3)) #0.3\n",
        "model.add(layers.Flatten())\n",
        "model.add(layers.Dense(128, activation='relu')) #128\n",
        "model.add(Dropout(0.3)) #\n",
        "model.add(layers.Dense(4, activation='softmax'))\n",
        "model.summary()\n",
        "######\n",
        "batch_size=128\n",
        "epochs=50\n",
        "opt = keras.optimizers.Adam(learning_rate=0.001)\n",
        "model.compile(optimizer=opt,loss=tf.keras.losses.SparseCategoricalCrossentropy(from_logits=True),metrics=['accuracy'])\n",
        "r = model.fit(x_train, y_train, validation_data=(x_test, y_test), epochs=50)\n"
      ],
      "metadata": {
        "id": "DDlqVHMLPcLV",
        "colab": {
          "base_uri": "https://localhost:8080/"
        },
        "outputId": "689e120d-c452-4de5-89c0-f9994adc4560"
      },
      "execution_count": null,
      "outputs": [
        {
          "output_type": "stream",
          "name": "stdout",
          "text": [
            "Model: \"sequential_1\"\n",
            "_________________________________________________________________\n",
            " Layer (type)                Output Shape              Param #   \n",
            "=================================================================\n",
            " conv2d_4 (Conv2D)           (None, 64, 64, 32)        896       \n",
            "                                                                 \n",
            " max_pooling2d_3 (MaxPooling  (None, 32, 32, 32)       0         \n",
            " 2D)                                                             \n",
            "                                                                 \n",
            " conv2d_5 (Conv2D)           (None, 30, 30, 32)        9248      \n",
            "                                                                 \n",
            " spatial_dropout2d_1 (Spatia  (None, 30, 30, 32)       0         \n",
            " lDropout2D)                                                     \n",
            "                                                                 \n",
            " max_pooling2d_4 (MaxPooling  (None, 15, 15, 32)       0         \n",
            " 2D)                                                             \n",
            "                                                                 \n",
            " conv2d_6 (Conv2D)           (None, 15, 15, 64)        18496     \n",
            "                                                                 \n",
            " conv2d_7 (Conv2D)           (None, 15, 15, 64)        36928     \n",
            "                                                                 \n",
            " max_pooling2d_5 (MaxPooling  (None, 7, 7, 64)         0         \n",
            " 2D)                                                             \n",
            "                                                                 \n",
            " dropout_2 (Dropout)         (None, 7, 7, 64)          0         \n",
            "                                                                 \n",
            " flatten_1 (Flatten)         (None, 3136)              0         \n",
            "                                                                 \n",
            " dense_2 (Dense)             (None, 128)               401536    \n",
            "                                                                 \n",
            " dropout_3 (Dropout)         (None, 128)               0         \n",
            "                                                                 \n",
            " dense_3 (Dense)             (None, 4)                 516       \n",
            "                                                                 \n",
            "=================================================================\n",
            "Total params: 467,620\n",
            "Trainable params: 467,620\n",
            "Non-trainable params: 0\n",
            "_________________________________________________________________\n",
            "Epoch 1/50\n",
            "99/99 [==============================] - 23s 228ms/step - loss: 1.3891 - accuracy: 0.2533 - val_loss: 1.3853 - val_accuracy: 0.2474\n",
            "Epoch 2/50\n",
            "99/99 [==============================] - 25s 253ms/step - loss: 1.3842 - accuracy: 0.2720 - val_loss: 1.3845 - val_accuracy: 0.2844\n",
            "Epoch 3/50\n",
            "99/99 [==============================] - 23s 234ms/step - loss: 1.3182 - accuracy: 0.3624 - val_loss: 1.3109 - val_accuracy: 0.4076\n",
            "Epoch 4/50\n",
            "99/99 [==============================] - 23s 233ms/step - loss: 1.1732 - accuracy: 0.4949 - val_loss: 1.0270 - val_accuracy: 0.5810\n",
            "Epoch 5/50\n",
            "99/99 [==============================] - 23s 232ms/step - loss: 1.0158 - accuracy: 0.5756 - val_loss: 0.8913 - val_accuracy: 0.6190\n",
            "Epoch 6/50\n",
            "99/99 [==============================] - 23s 233ms/step - loss: 0.8970 - accuracy: 0.6303 - val_loss: 0.7976 - val_accuracy: 0.6863\n",
            "Epoch 7/50\n",
            "99/99 [==============================] - 23s 232ms/step - loss: 0.7657 - accuracy: 0.6875 - val_loss: 0.6175 - val_accuracy: 0.7744\n",
            "Epoch 8/50\n",
            "99/99 [==============================] - 23s 233ms/step - loss: 0.6385 - accuracy: 0.7552 - val_loss: 0.5442 - val_accuracy: 0.7810\n",
            "Epoch 9/50\n",
            "99/99 [==============================] - 25s 249ms/step - loss: 0.5614 - accuracy: 0.7843 - val_loss: 0.4715 - val_accuracy: 0.8322\n",
            "Epoch 10/50\n",
            "99/99 [==============================] - 23s 234ms/step - loss: 0.4936 - accuracy: 0.8134 - val_loss: 0.4327 - val_accuracy: 0.8427\n",
            "Epoch 11/50\n",
            "99/99 [==============================] - 23s 232ms/step - loss: 0.4344 - accuracy: 0.8336 - val_loss: 0.4438 - val_accuracy: 0.8218\n",
            "Epoch 12/50\n",
            "99/99 [==============================] - 23s 233ms/step - loss: 0.3866 - accuracy: 0.8529 - val_loss: 0.3919 - val_accuracy: 0.8635\n",
            "Epoch 13/50\n",
            "99/99 [==============================] - 23s 234ms/step - loss: 0.3299 - accuracy: 0.8792 - val_loss: 0.3640 - val_accuracy: 0.8626\n",
            "Epoch 14/50\n",
            "99/99 [==============================] - 23s 234ms/step - loss: 0.2929 - accuracy: 0.8947 - val_loss: 0.3383 - val_accuracy: 0.8844\n",
            "Epoch 15/50\n",
            "99/99 [==============================] - 23s 234ms/step - loss: 0.2810 - accuracy: 0.8994 - val_loss: 0.2975 - val_accuracy: 0.8929\n",
            "Epoch 16/50\n",
            "99/99 [==============================] - 23s 232ms/step - loss: 0.2385 - accuracy: 0.9165 - val_loss: 0.2946 - val_accuracy: 0.8967\n",
            "Epoch 17/50\n",
            "99/99 [==============================] - 25s 254ms/step - loss: 0.2131 - accuracy: 0.9241 - val_loss: 0.3085 - val_accuracy: 0.8948\n",
            "Epoch 18/50\n",
            "99/99 [==============================] - 23s 234ms/step - loss: 0.1918 - accuracy: 0.9307 - val_loss: 0.2643 - val_accuracy: 0.8976\n",
            "Epoch 19/50\n",
            "99/99 [==============================] - 23s 234ms/step - loss: 0.1747 - accuracy: 0.9393 - val_loss: 0.2902 - val_accuracy: 0.8976\n",
            "Epoch 20/50\n",
            "99/99 [==============================] - 23s 233ms/step - loss: 0.1584 - accuracy: 0.9450 - val_loss: 0.2499 - val_accuracy: 0.9090\n",
            "Epoch 21/50\n",
            "99/99 [==============================] - 23s 233ms/step - loss: 0.1875 - accuracy: 0.9367 - val_loss: 0.2333 - val_accuracy: 0.9213\n",
            "Epoch 22/50\n",
            "99/99 [==============================] - 23s 235ms/step - loss: 0.1445 - accuracy: 0.9475 - val_loss: 0.2466 - val_accuracy: 0.9242\n",
            "Epoch 23/50\n",
            "99/99 [==============================] - 23s 233ms/step - loss: 0.1521 - accuracy: 0.9434 - val_loss: 0.2233 - val_accuracy: 0.9242\n",
            "Epoch 24/50\n",
            "99/99 [==============================] - 23s 235ms/step - loss: 0.1235 - accuracy: 0.9564 - val_loss: 0.2288 - val_accuracy: 0.9289\n",
            "Epoch 25/50\n",
            "99/99 [==============================] - 25s 254ms/step - loss: 0.1136 - accuracy: 0.9567 - val_loss: 0.2890 - val_accuracy: 0.9175\n",
            "Epoch 26/50\n",
            "99/99 [==============================] - 23s 236ms/step - loss: 0.0990 - accuracy: 0.9649 - val_loss: 0.2519 - val_accuracy: 0.9299\n",
            "Epoch 27/50\n",
            "99/99 [==============================] - 23s 235ms/step - loss: 0.1056 - accuracy: 0.9620 - val_loss: 0.2395 - val_accuracy: 0.9336\n",
            "Epoch 28/50\n",
            "99/99 [==============================] - 23s 234ms/step - loss: 0.1162 - accuracy: 0.9617 - val_loss: 0.2635 - val_accuracy: 0.9137\n",
            "Epoch 29/50\n",
            "99/99 [==============================] - 23s 234ms/step - loss: 0.1138 - accuracy: 0.9617 - val_loss: 0.2682 - val_accuracy: 0.9242\n",
            "Epoch 30/50\n",
            "99/99 [==============================] - 23s 234ms/step - loss: 0.0948 - accuracy: 0.9677 - val_loss: 0.2370 - val_accuracy: 0.9270\n",
            "Epoch 31/50\n",
            "99/99 [==============================] - 23s 234ms/step - loss: 0.1013 - accuracy: 0.9665 - val_loss: 0.2492 - val_accuracy: 0.9299\n",
            "Epoch 32/50\n",
            "99/99 [==============================] - 25s 254ms/step - loss: 0.0826 - accuracy: 0.9728 - val_loss: 0.2269 - val_accuracy: 0.9346\n",
            "Epoch 33/50\n",
            "99/99 [==============================] - 24s 238ms/step - loss: 0.0801 - accuracy: 0.9760 - val_loss: 0.2210 - val_accuracy: 0.9346\n",
            "Epoch 34/50\n",
            "99/99 [==============================] - 23s 235ms/step - loss: 0.0808 - accuracy: 0.9728 - val_loss: 0.2270 - val_accuracy: 0.9374\n",
            "Epoch 35/50\n",
            "99/99 [==============================] - 23s 236ms/step - loss: 0.0637 - accuracy: 0.9782 - val_loss: 0.2556 - val_accuracy: 0.9232\n",
            "Epoch 36/50\n",
            "99/99 [==============================] - 23s 235ms/step - loss: 0.0569 - accuracy: 0.9794 - val_loss: 0.3139 - val_accuracy: 0.9100\n",
            "Epoch 37/50\n",
            "99/99 [==============================] - 23s 234ms/step - loss: 0.0934 - accuracy: 0.9677 - val_loss: 0.2448 - val_accuracy: 0.9336\n",
            "Epoch 38/50\n",
            "99/99 [==============================] - 23s 235ms/step - loss: 0.0693 - accuracy: 0.9738 - val_loss: 0.2204 - val_accuracy: 0.9431\n",
            "Epoch 39/50\n",
            "99/99 [==============================] - 24s 240ms/step - loss: 0.0617 - accuracy: 0.9763 - val_loss: 0.2722 - val_accuracy: 0.9308\n",
            "Epoch 40/50\n",
            "99/99 [==============================] - 25s 248ms/step - loss: 0.0641 - accuracy: 0.9760 - val_loss: 0.2456 - val_accuracy: 0.9327\n",
            "Epoch 41/50\n",
            "99/99 [==============================] - 23s 235ms/step - loss: 0.0704 - accuracy: 0.9750 - val_loss: 0.3150 - val_accuracy: 0.9299\n",
            "Epoch 42/50\n",
            "99/99 [==============================] - 23s 233ms/step - loss: 0.0777 - accuracy: 0.9734 - val_loss: 0.2749 - val_accuracy: 0.9346\n",
            "Epoch 43/50\n",
            "99/99 [==============================] - 23s 237ms/step - loss: 0.0873 - accuracy: 0.9674 - val_loss: 0.2587 - val_accuracy: 0.9299\n",
            "Epoch 44/50\n",
            "99/99 [==============================] - 23s 235ms/step - loss: 0.0602 - accuracy: 0.9801 - val_loss: 0.2944 - val_accuracy: 0.9299\n",
            "Epoch 45/50\n",
            "99/99 [==============================] - 23s 234ms/step - loss: 0.0798 - accuracy: 0.9741 - val_loss: 0.2596 - val_accuracy: 0.9365\n",
            "Epoch 46/50\n",
            "99/99 [==============================] - 23s 233ms/step - loss: 0.0599 - accuracy: 0.9775 - val_loss: 0.2658 - val_accuracy: 0.9346\n",
            "Epoch 47/50\n",
            "99/99 [==============================] - 25s 254ms/step - loss: 0.0462 - accuracy: 0.9829 - val_loss: 0.2315 - val_accuracy: 0.9384\n",
            "Epoch 48/50\n",
            "99/99 [==============================] - 23s 235ms/step - loss: 0.0698 - accuracy: 0.9753 - val_loss: 0.2510 - val_accuracy: 0.9355\n",
            "Epoch 49/50\n",
            "99/99 [==============================] - 23s 234ms/step - loss: 0.0602 - accuracy: 0.9801 - val_loss: 0.2776 - val_accuracy: 0.9355\n",
            "Epoch 50/50\n",
            "99/99 [==============================] - 23s 234ms/step - loss: 0.0473 - accuracy: 0.9836 - val_loss: 0.2151 - val_accuracy: 0.9479\n"
          ]
        }
      ]
    },
    {
      "cell_type": "code",
      "source": [],
      "metadata": {
        "id": "QKnxy3hOAzAL"
      },
      "execution_count": null,
      "outputs": []
    },
    {
      "cell_type": "code",
      "source": [
        "plt.plot(r.history['accuracy'], label='accuracy')\n",
        "plt.plot(r.history['val_accuracy'], label = 'test_accuracy')\n",
        "plt.xlabel('Epoch')\n",
        "plt.ylabel('Accuracy')\n",
        "plt.ylim([0.5, 1])\n",
        "plt.legend(loc='lower right')\n",
        "\n",
        "test_loss, test_acc = model.evaluate(x_test,y_test, verbose=2)"
      ],
      "metadata": {
        "id": "qt8E3j8diHzh",
        "colab": {
          "base_uri": "https://localhost:8080/",
          "height": 301
        },
        "outputId": "190f12c1-e19f-49f6-9726-74cb13f037a4"
      },
      "execution_count": null,
      "outputs": [
        {
          "output_type": "stream",
          "name": "stdout",
          "text": [
            "33/33 - 2s - loss: 0.2151 - accuracy: 0.9479 - 2s/epoch - 57ms/step\n"
          ]
        },
        {
          "output_type": "display_data",
          "data": {
            "text/plain": [
              "<Figure size 432x288 with 1 Axes>"
            ],
            "image/png": "[encoded data removed]"
          },
          "metadata": {
            "needs_background": "light"
          }
        }
      ]
    },
    {
      "cell_type": "code",
      "source": [
        "model.save('Model2.h5')\n",
        "with open('x_test.npy', 'wb') as f:\n",
        "   np.save(f,x_test)"
      ],
      "metadata": {
        "id": "Ls5y_DjsJDZw"
      },
      "execution_count": null,
      "outputs": []
    },
    {
      "cell_type": "code",
      "source": [
        "with open('t=y_test.npy', 'wb') as f:\n",
        "   np.save(f,y_test)"
      ],
      "metadata": {
        "id": "NhBeQ9CC7l1I"
      },
      "execution_count": null,
      "outputs": []
    },
    {
      "cell_type": "code",
      "source": [
        "from PIL import Image\n",
        "import PIL.ImageOps  \n",
        "import cv2\n",
        "from PIL import Image as pil_image\n",
        "list_input=['100%','50%','80%','empty']\n",
        "img=pil_image.open(\"test.jpg\")\n",
        "np_im = np.array(img)/255\n"
      ],
      "metadata": {
        "id": "MS4h2kcJ8eSt"
      },
      "execution_count": null,
      "outputs": []
    },
    {
      "cell_type": "code",
      "source": [
        "plt.imshow(np_im.reshape(64,64,3))"
      ],
      "metadata": {
        "id": "lNkWr_s1ABPB",
        "colab": {
          "base_uri": "https://localhost:8080/",
          "height": 286
        },
        "outputId": "64797817-3225-48f9-bb7c-343755a2982d"
      },
      "execution_count": null,
      "outputs": [
        {
          "output_type": "execute_result",
          "data": {
            "text/plain": [
              "<matplotlib.image.AxesImage at 0x7f82745742d0>"
            ]
          },
          "metadata": {},
          "execution_count": 25
        },
        {
          "output_type": "display_data",
          "data": {
            "text/plain": [
              "<Figure size 432x288 with 1 Axes>"
            ],
            "image/png": "[encoded data removed]"
          },
          "metadata": {
            "needs_background": "light"
          }
        }
      ]
    },
    {
      "cell_type": "code",
      "source": [
        "np_im=np_im.reshape(1,64,64,3)"
      ],
      "metadata": {
        "id": "8mqL41HZ9bot"
      },
      "execution_count": null,
      "outputs": []
    },
    {
      "cell_type": "code",
      "source": [
        "b=np.argmax(prediction)\n",
        "print(list_input[b])"
      ],
      "metadata": {
        "id": "o9Oo8e6c_0ir",
        "colab": {
          "base_uri": "https://localhost:8080/",
          "height": 187
        },
        "outputId": "63e6ae66-d2d2-4d37-c241-8ec156e311ef"
      },
      "execution_count": null,
      "outputs": [
        {
          "output_type": "error",
          "ename": "NameError",
          "evalue": "ignored",
          "traceback": [
            "\u001b[0;31m---------------------------------------------------------------------------\u001b[0m",
            "\u001b[0;31mNameError\u001b[0m                                 Traceback (most recent call last)",
            "\u001b[0;32m<ipython-input-27-d7683a436e5f>\u001b[0m in \u001b[0;36m<module>\u001b[0;34m\u001b[0m\n\u001b[0;32m----> 1\u001b[0;31m \u001b[0mb\u001b[0m\u001b[0;34m=\u001b[0m\u001b[0mnp\u001b[0m\u001b[0;34m.\u001b[0m\u001b[0margmax\u001b[0m\u001b[0;34m(\u001b[0m\u001b[0mprediction\u001b[0m\u001b[0;34m)\u001b[0m\u001b[0;34m\u001b[0m\u001b[0;34m\u001b[0m\u001b[0m\n\u001b[0m\u001b[1;32m      2\u001b[0m \u001b[0mprint\u001b[0m\u001b[0;34m(\u001b[0m\u001b[0mlist_input\u001b[0m\u001b[0;34m[\u001b[0m\u001b[0mb\u001b[0m\u001b[0;34m]\u001b[0m\u001b[0;34m)\u001b[0m\u001b[0;34m\u001b[0m\u001b[0;34m\u001b[0m\u001b[0m\n",
            "\u001b[0;31mNameError\u001b[0m: name 'prediction' is not defined"
          ]
        }
      ]
    }
  ]
}