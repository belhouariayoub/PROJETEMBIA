{
  "nbformat": 4,
  "nbformat_minor": 0,
  "metadata": {
    "colab": {
      "provenance": [],
      "collapsed_sections": [],
      "mount_file_id": "1XbpEWzM3Cd07KVei6LnTWYQfK6keZwmY",
      "authorship_tag": "ABX9TyMKhX+SUapjaJSUjKkXYKex",
      "include_colab_link": true
    },
    "kernelspec": {
      "name": "python3",
      "display_name": "Python 3"
    },
    "language_info": {
      "name": "python"
    }
  },
  "cells": [
    {
      "cell_type": "markdown",
      "metadata": {
        "id": "view-in-github",
        "colab_type": "text"
      },
      "source": [
        "<a href=\"https://colab.research.google.com/github/belhouariayoub/PROJETEMBIA/blob/main/model.ipynb\" target=\"_parent\"><img src=\"https://colab.research.google.com/assets/colab-badge.svg\" alt=\"Open In Colab\"/></a>"
      ]
    },
    {
      "cell_type": "code",
      "source": [
        "import sys, os, array, time\n",
        "import numpy as np\n",
        "import matplotlib.pyplot as plt\n",
        "import IPython\n",
        "\n",
        "import tensorflow as tf\n",
        "from tensorflow import keras\n",
        "from tensorflow.keras import layers, models\n",
        "from keras.layers import Dropout,Dense\n",
        "from sklearn.model_selection import train_test_split"
      ],
      "metadata": {
        "id": "CvyhsZYdvph0"
      },
      "execution_count": 1,
      "outputs": []
    },
    {
      "cell_type": "code",
      "source": [
        "class timer:\n",
        "    def __init__(self, name=None):\n",
        "        self.name = name\n",
        "        self.T_start = -1\n",
        "        self.T_stop  = -1\n",
        "\n",
        "    def tic(self):\n",
        "        self.T_start = time.time()\n",
        "\n",
        "    def toc(self):\n",
        "        self.T_stop = time.time()\n",
        "\n",
        "    def res(self):\n",
        "        if (self.T_start == -1) or (self.T_stop == -1):\n",
        "            print(\"Error: Measurement cannot be done\")\n",
        "        else:\n",
        "            return str(self.T_stop - self.T_start)"
      ],
      "metadata": {
        "id": "vhTlBmOFvpoJ"
      },
      "execution_count": 2,
      "outputs": []
    },
    {
      "cell_type": "code",
      "source": [
        "def plot_history(history):\n",
        "    plt.plot(history.history['loss'])\n",
        "    plt.plot(history.history['val_loss'])\n",
        "    plt.title('model Loss')\n",
        "    plt.ylabel('Loss')\n",
        "    plt.xlabel('epoch')\n",
        "    plt.legend(['train', 'val'], loc='upper left')\n",
        "    plt.show()\n",
        "\n",
        "    plt.plot(history.history['acc'])\n",
        "    plt.plot(history.history['val_acc'])\n",
        "    plt.title('model accuracy')\n",
        "    plt.ylabel('accuracy')\n",
        "    plt.xlabel('epoch')\n",
        "    plt.legend(['train', 'val'], loc='upper left')\n",
        "    plt.show()"
      ],
      "metadata": {
        "id": "nqoIuzZyv5yS"
      },
      "execution_count": 3,
      "outputs": []
    },
    {
      "cell_type": "code",
      "source": [
        "def load_data(path):\n",
        "    with np.load(path) as f:\n",
        "        x_train, y_train = f['x_train'], f['y_train']\n",
        "        x_test, y_test = f['x_test'], f['y_test']\n",
        "        return (x_train, y_train), (x_test, y_test)"
      ],
      "metadata": {
        "id": "1CT9g06e7y0D"
      },
      "execution_count": null,
      "outputs": []
    },
    {
      "cell_type": "code",
      "source": [
        "from tensorflow.python.ops.gen_array_ops import mirror_pad_eager_fallback\n",
        "def build_model():\n",
        "\n",
        " \n",
        "        # Small CNN for MNIST recognition\n",
        "        model = models.Sequential()\n",
        "        \n",
        "        # Dense layer\n",
        "        model.add(layers.Conv2D(32, (3, 3), activation='relu',padding='same', input_shape=(62,64,3)))\n",
        "       # model.add(layers.MaxPooling2D((2, 2), padding='valid'))\n",
        "\n",
        "\n",
        "        model.add(layers.Conv2D(32, (3, 3), activation='relu'))\n",
        "        model.add(layers.MaxPooling2D((2, 2), padding='valid'))\n",
        "        model.add(Dropout(0.2))     \n",
        "\n",
        "       \n",
        "\n",
        "        model.add(layers.Conv2D(64, (3, 3), padding='same', activation='relu'))\n",
        "      #  model.add(layers.MaxPooling2D((2, 2), padding='valid'))\n",
        "       # model.add(Dropout(0.2))     \n",
        "\n",
        "\n",
        "        model.add(layers.Conv2D(64, (3, 3), padding='same', activation='relu'))\n",
        "        model.add(layers.MaxPooling2D((2, 2), padding='valid'))\n",
        "        model.add(Dropout(0.2)) \n",
        "\n",
        "        model.add(layers.Flatten())\n",
        "        model.add(layers.Dense(512, activation='relu'))\n",
        "        model.add(Dropout(0.2))    \n",
        "              \n",
        "        # Output layer\n",
        "        model.add(layers.Dense(4, activation='softmax'))\n",
        "        model.summary()  \n",
        "     \n",
        "\n",
        "\n",
        "        return model\n"
      ],
      "metadata": {
        "id": "huGhR0uE_1CI"
      },
      "execution_count": 4,
      "outputs": []
    },
    {
      "cell_type": "code",
      "source": [
        "from google.colab import drive\n",
        "drive.mount('/content/drive')\n",
        "%cd \"/content/drive/MyDrive/EMBEDDEDIA\""
      ],
      "metadata": {
        "colab": {
          "base_uri": "https://localhost:8080/"
        },
        "id": "FqC6t6MUdfxJ",
        "outputId": "75488d25-ff5e-4ef6-f281-bc98feaa205c"
      },
      "execution_count": 5,
      "outputs": [
        {
          "output_type": "stream",
          "name": "stdout",
          "text": [
            "Drive already mounted at /content/drive; to attempt to forcibly remount, call drive.mount(\"/content/drive\", force_remount=True).\n",
            "/content/drive/MyDrive/EMBEDDEDIA\n"
          ]
        }
      ]
    },
    {
      "cell_type": "code",
      "source": [
        "!ls"
      ],
      "metadata": {
        "colab": {
          "base_uri": "https://localhost:8080/"
        },
        "id": "9YGwlfUE-k69",
        "outputId": "673b600a-98ed-40d1-a6d5-9cc48773318b"
      },
      "execution_count": 6,
      "outputs": [
        {
          "output_type": "stream",
          "name": "stdout",
          "text": [
            "Saline_bottle_original_size\t test.h5     Y_data.npy\n",
            "Saline_bottle_original_size_50%  X_data.npy\n"
          ]
        }
      ]
    },
    {
      "cell_type": "code",
      "source": [
        "X_data = []\n",
        "Y_data = []\n",
        "X_data=np.load('X_data.npy')\n",
        "Y_data=np.load('Y_data.npy')\n",
        "\n",
        "x_train,x_test,y_train,y_test = train_test_split(X_data,Y_data, test_size=0.20, random_state=4)\n",
        "x_train.reshape(64,64,3,-1)\n",
        "x_test.reshape(64,64,3,-1)\n",
        "y_train=y_train.reshape(y_train.shape[0],1)\n",
        "y_test=y_test.reshape(y_test.shape[0],1)\n",
        "\n",
        "\n",
        "# Small CNN for MNIST recognition\n",
        "model = models.Sequential()\n",
        "        \n",
        "# Dense layer\n",
        "model.add(layers.Conv2D(32, (3, 3), activation='relu',padding='same', input_shape=(64,64,3)))\n",
        "# model.add(layers.MaxPooling2D((2, 2), padding='valid'))\n",
        "\n",
        "model.add(layers.Conv2D(32, (3, 3), activation='relu'))\n",
        "model.add(layers.MaxPooling2D((2, 2), padding='valid'))\n",
        "model.add(Dropout(0.2))     \n",
        "model.add(layers.Conv2D(64, (3, 3), padding='same', activation='relu'))\n",
        "model.add(layers.Conv2D(64, (3, 3), padding='same', activation='relu'))\n",
        "model.add(layers.MaxPooling2D((2, 2), padding='valid'))\n",
        "model.add(Dropout(0.2)) \n",
        "model.add(layers.Flatten())\n",
        "model.add(layers.Dense(512, activation='relu'))\n",
        "model.add(Dropout(0.2))    \n",
        "model.add(layers.Dense(4, activation='softmax'))\n",
        "model.summary()\n",
        "model.compile(optimizer='adam',loss=tf.keras.losses.SparseCategoricalCrossentropy(from_logits=True),metrics=['accuracy'])\n",
        "history = model.fit(x_train,y_train, epochs=20, validation_data=(x_test,y_test))"
      ],
      "metadata": {
        "colab": {
          "base_uri": "https://localhost:8080/"
        },
        "id": "qg6qxJWsXsii",
        "outputId": "6945ffc1-4e3b-4b05-ae2d-b63240a8b0e0"
      },
      "execution_count": 13,
      "outputs": [
        {
          "output_type": "stream",
          "name": "stdout",
          "text": [
            "Model: \"sequential_3\"\n",
            "_________________________________________________________________\n",
            " Layer (type)                Output Shape              Param #   \n",
            "=================================================================\n",
            " conv2d_12 (Conv2D)          (None, 64, 64, 32)        896       \n",
            "                                                                 \n",
            " conv2d_13 (Conv2D)          (None, 62, 62, 32)        9248      \n",
            "                                                                 \n",
            " max_pooling2d_6 (MaxPooling  (None, 31, 31, 32)       0         \n",
            " 2D)                                                             \n",
            "                                                                 \n",
            " dropout_9 (Dropout)         (None, 31, 31, 32)        0         \n",
            "                                                                 \n",
            " conv2d_14 (Conv2D)          (None, 31, 31, 64)        18496     \n",
            "                                                                 \n",
            " conv2d_15 (Conv2D)          (None, 31, 31, 64)        36928     \n",
            "                                                                 \n",
            " max_pooling2d_7 (MaxPooling  (None, 15, 15, 64)       0         \n",
            " 2D)                                                             \n",
            "                                                                 \n",
            " dropout_10 (Dropout)        (None, 15, 15, 64)        0         \n",
            "                                                                 \n",
            " flatten_3 (Flatten)         (None, 14400)             0         \n",
            "                                                                 \n",
            " dense_6 (Dense)             (None, 512)               7373312   \n",
            "                                                                 \n",
            " dropout_11 (Dropout)        (None, 512)               0         \n",
            "                                                                 \n",
            " dense_7 (Dense)             (None, 4)                 2052      \n",
            "                                                                 \n",
            "=================================================================\n",
            "Total params: 7,440,932\n",
            "Trainable params: 7,440,932\n",
            "Non-trainable params: 0\n",
            "_________________________________________________________________\n",
            "Epoch 1/20\n",
            "106/106 [==============================] - 67s 626ms/step - loss: 18.3310 - accuracy: 0.2511 - val_loss: 1.3857 - val_accuracy: 0.2512\n",
            "Epoch 2/20\n",
            "106/106 [==============================] - 66s 625ms/step - loss: 1.3861 - accuracy: 0.2550 - val_loss: 1.3858 - val_accuracy: 0.2512\n",
            "Epoch 3/20\n",
            "106/106 [==============================] - 64s 607ms/step - loss: 1.3880 - accuracy: 0.2476 - val_loss: 1.3866 - val_accuracy: 0.2500\n",
            "Epoch 4/20\n",
            "106/106 [==============================] - 66s 623ms/step - loss: 1.3866 - accuracy: 0.2443 - val_loss: 1.3867 - val_accuracy: 0.2500\n",
            "Epoch 5/20\n",
            "106/106 [==============================] - 64s 605ms/step - loss: 1.3867 - accuracy: 0.2562 - val_loss: 1.3865 - val_accuracy: 0.2464\n",
            "Epoch 6/20\n",
            "106/106 [==============================] - 66s 623ms/step - loss: 1.3869 - accuracy: 0.2464 - val_loss: 1.3863 - val_accuracy: 0.2512\n",
            "Epoch 7/20\n",
            "106/106 [==============================] - 67s 633ms/step - loss: 1.3893 - accuracy: 0.2461 - val_loss: 1.3866 - val_accuracy: 0.2464\n",
            "Epoch 8/20\n",
            "106/106 [==============================] - 64s 608ms/step - loss: 1.3869 - accuracy: 0.2410 - val_loss: 1.3867 - val_accuracy: 0.2464\n",
            "Epoch 9/20\n",
            "106/106 [==============================] - 66s 623ms/step - loss: 1.3866 - accuracy: 0.2547 - val_loss: 1.3866 - val_accuracy: 0.2393\n",
            "Epoch 10/20\n",
            "106/106 [==============================] - 64s 605ms/step - loss: 1.3866 - accuracy: 0.2517 - val_loss: 1.3866 - val_accuracy: 0.2393\n",
            "Epoch 11/20\n",
            "106/106 [==============================] - 66s 622ms/step - loss: 1.3867 - accuracy: 0.2369 - val_loss: 1.3866 - val_accuracy: 0.2393\n",
            "Epoch 12/20\n",
            "106/106 [==============================] - 66s 623ms/step - loss: 1.3862 - accuracy: 0.2538 - val_loss: 1.3863 - val_accuracy: 0.2216\n",
            "Epoch 13/20\n",
            "106/106 [==============================] - 64s 605ms/step - loss: 1.3870 - accuracy: 0.2407 - val_loss: 1.3866 - val_accuracy: 0.2464\n",
            "Epoch 14/20\n",
            "106/106 [==============================] - 66s 621ms/step - loss: 1.3866 - accuracy: 0.2431 - val_loss: 1.3866 - val_accuracy: 0.2393\n",
            "Epoch 15/20\n",
            "106/106 [==============================] - 64s 604ms/step - loss: 1.3866 - accuracy: 0.2493 - val_loss: 1.3868 - val_accuracy: 0.2393\n",
            "Epoch 16/20\n",
            "106/106 [==============================] - 66s 622ms/step - loss: 1.3866 - accuracy: 0.2520 - val_loss: 1.3866 - val_accuracy: 0.2393\n",
            "Epoch 17/20\n",
            "106/106 [==============================] - 65s 616ms/step - loss: 1.3870 - accuracy: 0.2428 - val_loss: 1.3866 - val_accuracy: 0.2393\n",
            "Epoch 18/20\n",
            "106/106 [==============================] - 65s 610ms/step - loss: 1.3863 - accuracy: 0.2366 - val_loss: 1.3865 - val_accuracy: 0.2464\n",
            "Epoch 19/20\n",
            "106/106 [==============================] - 70s 661ms/step - loss: 1.3869 - accuracy: 0.2529 - val_loss: 1.3868 - val_accuracy: 0.2393\n",
            "Epoch 20/20\n",
            "106/106 [==============================] - 65s 611ms/step - loss: 1.3868 - accuracy: 0.2446 - val_loss: 1.3864 - val_accuracy: 0.2393\n"
          ]
        }
      ]
    },
    {
      "cell_type": "code",
      "source": [
        "plt.plot(history.history['accuracy'], label='accuracy')\n",
        "plt.plot(history.history['val_accuracy'], label = 'val_accuracy')\n",
        "plt.xlabel('Epoch')\n",
        "plt.ylabel('Accuracy')\n",
        "plt.ylim([0.5, 1])\n",
        "plt.legend(loc='lower right')\n",
        "\n",
        "test_loss, test_acc = model.evaluate(x_test,y_test, verbose=2)"
      ],
      "metadata": {
        "colab": {
          "base_uri": "https://localhost:8080/",
          "height": 301
        },
        "id": "qt8E3j8diHzh",
        "outputId": "0c1b442c-11fd-4ec2-b291-7d016ad2b84b"
      },
      "execution_count": 12,
      "outputs": [
        {
          "output_type": "stream",
          "name": "stdout",
          "text": [
            "27/27 - 3s - loss: 0.4614 - accuracy: 0.8898 - 3s/epoch - 125ms/step\n"
          ]
        },
        {
          "output_type": "display_data",
          "data": {
            "text/plain": [
              "<Figure size 432x288 with 1 Axes>"
            ],
            "image/png": "[encoded data removed]"
          },
          "metadata": {
            "needs_background": "light"
          }
        }
      ]
    },
    {
      "cell_type": "code",
      "source": [
        "model.save_weights('test.h5')\n"
      ],
      "metadata": {
        "id": "Ls5y_DjsJDZw"
      },
      "execution_count": null,
      "outputs": []
    },
    {
      "cell_type": "code",
      "source": [
        "class dataset:\n",
        "    def __init__(self):\n",
        "\n",
        "      self.X_data =np.load('X_data.npy')\n",
        "      self.Y_data =np.load('Y_data.npy')\n",
        "      self.x_train,self.x_test,self.y_train,self.y_test = train_test_split(X_data,Y_data, test_size=0.20, random_state=4)\n",
        "       \n",
        "      #(self.x_train, self.y_train), (self.x_test, self.y_test)  = load_data('mnist.npz')\n",
        "        \n",
        "      # Rescale of images\n",
        "      x_train = x_train / 255.0\n",
        "      x_test  = x_test / 255.0\n",
        "        \n",
        "        # Take 10.000 image from x_train to constitue a validation dataset\n",
        "       #self.x_val = self.x_train[50000:]\n",
        "        #self.y_val = self.y_train[50000:]\n",
        "        \n",
        "        #self.x_train = self.x_train[:50000]\n",
        "        #self.y_train = self.y_train[:50000]\n",
        "        \n",
        "        # Reshape of x_train et x_test\n",
        "        #if tf.keras.datasets.mnist.image_data_format == 'channel_first':\n",
        "        #self.x_train = self.x_train.reshape((self.x_train.shape[0], 1, self.x_train.shape[1], self.x_train.shape[2]))\n",
        "        #self.x_val   = self.x_val.reshape((self.x_val.shape[0], 1, self.x_val.shape[1], self.x_val.shape[2]))\n",
        "        #self.x_test  = self.x_test.reshape((self.x_test.shape[0], 1, self.x_test.shape[1], self.x_test.shape[2]))\n",
        "        #self.input_shape = (1, 28, 28)\n",
        "        \n",
        "        #else:\n",
        "        #self.x_train = self.x_train.reshape((self.x_train.shape[0], self.x_train.shape[1], self.x_train.shape[2], 1))\n",
        "        #self.x_val   = self.x_val.reshape((self.x_val.shape[0], self.x_val.shape[1], self.x_val.shape[2], 1))\n",
        "        #self.x_test  = self.x_test.reshape((self.x_test.shape[0], self.x_test.shape[1], self.x_test.shape[2], 1))\n",
        "        #self.input_shape = self.x_train.shape[1:]\n",
        "        \n",
        "        \n",
        "        # Transform label to one hot vector\n",
        "        #self.y_train = tf.keras.utils.to_categorical(self.y_train, 10)\n",
        "        #self.y_val   = tf.keras.utils.to_categorical(self.y_val, 10)\n",
        "        #self.y_test  = tf.keras.utils.to_categorical(self.y_test, 10)\n",
        "        \n",
        "        #self.nb_epochs  = 5\n",
        "        #self.batch_size = 128\n",
        "        \n",
        "        #print(\"Number training examples:  \", len(self.x_train))\n",
        "        #print(\"Number test examples:      \", len(self.x_test))\n",
        "        #print(\"Number validation examples:\", len(self.x_val))\n",
        "        #print(\"\\n\")\n",
        "        #print(\"\\tTrain Dataset      --> x_train: \" + str(np.shape(self.x_train)) + \"    y_train: \" + str(np.shape(self.y_train)))\n",
        "        #print(\"\\tValidation Dataset --> x_val:   \" + str(np.shape(self.x_val))   + \"    y_val:   \" + str(np.shape(self.y_val)))\n",
        "        print(\"\\tTesting Dataset    --> x_test:  \" + str(np.shape(self.x_test))  + \"    y_test:  \" + str(np.shape(self.y_test)))\n",
        "        print(\"\\tNumber of epochs:  \"+str(self.nb_epochs))\n",
        "        print(\"\\tBatch size:        \"+str(self.batch_size))\n",
        "        print(\"\\n\")\n",
        "        \n",
        "    def MLP_input_data_preparation(self):\n",
        "        self.input_shape = np.prod(self.x_train.shape[1:])\n",
        "        self.x_train = self.x_train.reshape(self.x_train.shape[0], self.input_shape)\n",
        "        self.x_val   = self.x_val.reshape(self.x_val.shape[0], self.input_shape)\n",
        "        self.x_test  = self.x_test.reshape(self.x_test.shape[0], self.input_shape)\n",
        "        \n",
        "        print (\"\\n\")\n",
        "        print (\"New dimensions after MLP reshape:\\n\")\n",
        "        print (\"Train Dataset      --> x_train: \" + str(np.shape(self.x_train)) + \"    y_train: \" + str(np.shape(self.y_train)))\n",
        "        print (\"Validation Dataset --> x_val:   \" + str(np.shape(self.x_val))   + \"    y_val:   \" + str(np.shape(self.y_val)))\n",
        "        print (\"Testing Dataset    --> x_test:  \" + str(np.shape(self.x_test))  + \"    y_test:  \" + str(np.shape(self.y_test)))\n",
        "        print (\"\\n\")\n",
        "    \n",
        "  "
      ],
      "metadata": {
        "colab": {
          "base_uri": "https://localhost:8080/",
          "height": 133
        },
        "outputId": "b2003415-c41e-4ccd-dc17-e60e70aaa869",
        "id": "goa1AzrAMd8s"
      },
      "execution_count": null,
      "outputs": [
        {
          "output_type": "error",
          "ename": "IndentationError",
          "evalue": "ignored",
          "traceback": [
            "\u001b[0;36m  File \u001b[0;32m\"<ipython-input-62-b0cd09236575>\"\u001b[0;36m, line \u001b[0;32m36\u001b[0m\n\u001b[0;31m    self.y_train = tf.keras.utils.to_categorical(self.y_train, 10)\u001b[0m\n\u001b[0m    ^\u001b[0m\n\u001b[0;31mIndentationError\u001b[0m\u001b[0;31m:\u001b[0m unexpected indent\n"
          ]
        }
      ]
    },
    {
      "cell_type": "code",
      "source": [
        "class dataset:\n",
        "    def __init__(self):\n",
        "\n",
        "      self.X_data =np.load('X_data.npy')\n",
        "      self.Y_data =np.load('Y_data.npy')\n",
        "      self.x_train,self.x_test,self.y_train,self.y_test = train_test_split(X_data,Y_data, test_size=0.20, random_state=4)\n",
        "       \n",
        "      #(self.x_train, self.y_train), (self.x_test, self.y_test)  = load_data('mnist.npz')\n",
        "        \n",
        "      # Rescale of images\n",
        "      x_train = x_train / 255.0\n",
        "      x_test  = x_test / 255.0\n",
        "        \n",
        "        # Take 10.000 image from x_train to constitue a validation dataset\n",
        "       #self.x_val = self.x_train[50000:]\n",
        "        #self.y_val = self.y_train[50000:]\n",
        "        \n",
        "        #self.x_train = self.x_train[:50000]\n",
        "        #self.y_train = self.y_train[:50000]\n",
        "        \n",
        "        # Reshape of x_train et x_test\n",
        "        #if tf.keras.datasets.mnist.image_data_format == 'channel_first':\n",
        "        #self.x_train = self.x_train.reshape((self.x_train.shape[0], 1, self.x_train.shape[1], self.x_train.shape[2]))\n",
        "        #self.x_val   = self.x_val.reshape((self.x_val.shape[0], 1, self.x_val.shape[1], self.x_val.shape[2]))\n",
        "        #self.x_test  = self.x_test.reshape((self.x_test.shape[0], 1, self.x_test.shape[1], self.x_test.shape[2]))\n",
        "        #self.input_shape = (1, 28, 28)\n",
        "        \n",
        "        #else:\n",
        "        #self.x_train = self.x_train.reshape((self.x_train.shape[0], self.x_train.shape[1], self.x_train.shape[2], 1))\n",
        "        #self.x_val   = self.x_val.reshape((self.x_val.shape[0], self.x_val.shape[1], self.x_val.shape[2], 1))\n",
        "        #self.x_test  = self.x_test.reshape((self.x_test.shape[0], self.x_test.shape[1], self.x_test.shape[2], 1))\n",
        "        #self.input_shape = self.x_train.shape[1:]\n",
        "        \n",
        "        \n",
        "        # Transform label to one hot vector\n",
        "        #self.y_train = tf.keras.utils.to_categorical(self.y_train, 10)\n",
        "        #self.y_val   = tf.keras.utils.to_categorical(self.y_val, 10)\n",
        "        #self.y_test  = tf.keras.utils.to_categorical(self.y_test, 10)\n",
        "        \n",
        "        #self.nb_epochs  = 5\n",
        "        #self.batch_size = 128\n",
        "        \n",
        "        #print(\"Number training examples:  \", len(self.x_train))\n",
        "        #print(\"Number test examples:      \", len(self.x_test))\n",
        "        #print(\"Number validation examples:\", len(self.x_val))\n",
        "        #print(\"\\n\")\n",
        "        #print(\"\\tTrain Dataset      --> x_train: \" + str(np.shape(self.x_train)) + \"    y_train: \" + str(np.shape(self.y_train)))\n",
        "        #print(\"\\tValidation Dataset --> x_val:   \" + str(np.shape(self.x_val))   + \"    y_val:   \" + str(np.shape(self.y_val)))\n",
        "        print(\"\\tTesting Dataset    --> x_test:  \" + str(np.shape(self.x_test))  + \"    y_test:  \" + str(np.shape(self.y_test)))\n",
        "        print(\"\\tNumber of epochs:  \"+str(self.nb_epochs))\n",
        "        print(\"\\tBatch size:        \"+str(self.batch_size))\n",
        "        print(\"\\n\")\n",
        "        \n",
        "    def MLP_input_data_preparation(self):\n",
        "        self.input_shape = np.prod(self.x_train.shape[1:])\n",
        "        self.x_train = self.x_train.reshape(self.x_train.shape[0], self.input_shape)\n",
        "        self.x_val   = self.x_val.reshape(self.x_val.shape[0], self.input_shape)\n",
        "        self.x_test  = self.x_test.reshape(self.x_test.shape[0], self.input_shape)\n",
        "        \n",
        "        print (\"\\n\")\n",
        "        print (\"New dimensions after MLP reshape:\\n\")\n",
        "        print (\"Train Dataset      --> x_train: \" + str(np.shape(self.x_train)) + \"    y_train: \" + str(np.shape(self.y_train)))\n",
        "        print (\"Validation Dataset --> x_val:   \" + str(np.shape(self.x_val))   + \"    y_val:   \" + str(np.shape(self.y_val)))\n",
        "        print (\"Testing Dataset    --> x_test:  \" + str(np.shape(self.x_test))  + \"    y_test:  \" + str(np.shape(self.y_test)))\n",
        "        print (\"\\n\")\n",
        "    \n",
        "  "
      ],
      "metadata": {
        "colab": {
          "base_uri": "https://localhost:8080/",
          "height": 133
        },
        "outputId": "b2003415-c41e-4ccd-dc17-e60e70aaa869",
        "id": "fTTpORLTMcyG"
      },
      "execution_count": null,
      "outputs": [
        {
          "output_type": "error",
          "ename": "IndentationError",
          "evalue": "ignored",
          "traceback": [
            "\u001b[0;36m  File \u001b[0;32m\"<ipython-input-62-b0cd09236575>\"\u001b[0;36m, line \u001b[0;32m36\u001b[0m\n\u001b[0;31m    self.y_train = tf.keras.utils.to_categorical(self.y_train, 10)\u001b[0m\n\u001b[0m    ^\u001b[0m\n\u001b[0;31mIndentationError\u001b[0m\u001b[0;31m:\u001b[0m unexpected indent\n"
          ]
        }
      ]
    },
    {
      "cell_type": "code",
      "source": [
        "\n",
        "build_model()"
      ],
      "metadata": {
        "colab": {
          "base_uri": "https://localhost:8080/"
        },
        "id": "TMftA47P5wrG",
        "outputId": "aeec9b9a-3a00-4935-f1be-b3b64a8c078c"
      },
      "execution_count": null,
      "outputs": [
        {
          "output_type": "stream",
          "name": "stdout",
          "text": [
            "Model: \"sequential_8\"\n",
            "_________________________________________________________________\n",
            " Layer (type)                Output Shape              Param #   \n",
            "=================================================================\n",
            " conv2d_32 (Conv2D)          (None, 62, 64, 32)        896       \n",
            "                                                                 \n",
            " conv2d_33 (Conv2D)          (None, 60, 62, 32)        9248      \n",
            "                                                                 \n",
            " max_pooling2d_16 (MaxPoolin  (None, 30, 31, 32)       0         \n",
            " g2D)                                                            \n",
            "                                                                 \n",
            " dropout_24 (Dropout)        (None, 30, 31, 32)        0         \n",
            "                                                                 \n",
            " conv2d_34 (Conv2D)          (None, 30, 31, 64)        18496     \n",
            "                                                                 \n",
            " conv2d_35 (Conv2D)          (None, 30, 31, 64)        36928     \n",
            "                                                                 \n",
            " max_pooling2d_17 (MaxPoolin  (None, 15, 15, 64)       0         \n",
            " g2D)                                                            \n",
            "                                                                 \n",
            " dropout_25 (Dropout)        (None, 15, 15, 64)        0         \n",
            "                                                                 \n",
            " flatten_8 (Flatten)         (None, 14400)             0         \n",
            "                                                                 \n",
            " dense_16 (Dense)            (None, 512)               7373312   \n",
            "                                                                 \n",
            " dropout_26 (Dropout)        (None, 512)               0         \n",
            "                                                                 \n",
            " dense_17 (Dense)            (None, 4)                 2052      \n",
            "                                                                 \n",
            "=================================================================\n",
            "Total params: 7,440,932\n",
            "Trainable params: 7,440,932\n",
            "Non-trainable params: 0\n",
            "_________________________________________________________________\n"
          ]
        },
        {
          "output_type": "execute_result",
          "data": {
            "text/plain": [
              "<keras.engine.sequential.Sequential at 0x7ff6ab599110>"
            ]
          },
          "metadata": {},
          "execution_count": 25
        }
      ]
    },
    {
      "cell_type": "code",
      "source": [],
      "metadata": {
        "colab": {
          "base_uri": "https://localhost:8080/"
        },
        "id": "1AS1kFAH-CVw",
        "outputId": "5e60d4c0-76d5-4837-d10a-279e92cf63de"
      },
      "execution_count": null,
      "outputs": [
        {
          "output_type": "stream",
          "name": "stdout",
          "text": [
            "/content/drive/MyDrive/EMBEDDEDIA\n"
          ]
        }
      ]
    },
    {
      "cell_type": "code",
      "source": [],
      "metadata": {
        "id": "cyELwVZ4_8pv"
      },
      "execution_count": null,
      "outputs": []
    },
    {
      "cell_type": "code",
      "source": [],
      "metadata": {
        "colab": {
          "base_uri": "https://localhost:8080/",
          "height": 286
        },
        "id": "4NJWIIgHAp2T",
        "outputId": "f2537834-61a7-4b89-a466-3966adbeeddb"
      },
      "execution_count": null,
      "outputs": [
        {
          "output_type": "execute_result",
          "data": {
            "text/plain": [
              "0"
            ]
          },
          "metadata": {},
          "execution_count": 59
        },
        {
          "output_type": "display_data",
          "data": {
            "text/plain": [
              "<Figure size 432x288 with 1 Axes>"
            ],
            "image/png": "[encoded data removed]"
          },
          "metadata": {
            "needs_background": "light"
          }
        }
      ]
    },
    {
      "cell_type": "code",
      "source": [
        "class dataset:\n",
        "    def __init__(self):\n",
        "\n",
        "      self.X_data =np.load('X_data.npy')\n",
        "      self.Y_data =np.load('Y_data.npy')\n",
        "      self.x_train,self.x_test,self.y_train,self.y_test = train_test_split(X_data,Y_data, test_size=0.20, random_state=4)\n",
        "       \n",
        "      #(self.x_train, self.y_train), (self.x_test, self.y_test)  = load_data('mnist.npz')\n",
        "        \n",
        "      # Rescale of images\n",
        "      x_train = x_train / 255.0\n",
        "      x_test  = x_test / 255.0\n",
        "        \n",
        "        # Take 10.000 image from x_train to constitue a validation dataset\n",
        "       #self.x_val = self.x_train[50000:]\n",
        "        #self.y_val = self.y_train[50000:]\n",
        "        \n",
        "        #self.x_train = self.x_train[:50000]\n",
        "        #self.y_train = self.y_train[:50000]\n",
        "        \n",
        "        # Reshape of x_train et x_test\n",
        "        #if tf.keras.datasets.mnist.image_data_format == 'channel_first':\n",
        "        #self.x_train = self.x_train.reshape((self.x_train.shape[0], 1, self.x_train.shape[1], self.x_train.shape[2]))\n",
        "        #self.x_val   = self.x_val.reshape((self.x_val.shape[0], 1, self.x_val.shape[1], self.x_val.shape[2]))\n",
        "        #self.x_test  = self.x_test.reshape((self.x_test.shape[0], 1, self.x_test.shape[1], self.x_test.shape[2]))\n",
        "        #self.input_shape = (1, 28, 28)\n",
        "        \n",
        "        #else:\n",
        "        #self.x_train = self.x_train.reshape((self.x_train.shape[0], self.x_train.shape[1], self.x_train.shape[2], 1))\n",
        "        #self.x_val   = self.x_val.reshape((self.x_val.shape[0], self.x_val.shape[1], self.x_val.shape[2], 1))\n",
        "        #self.x_test  = self.x_test.reshape((self.x_test.shape[0], self.x_test.shape[1], self.x_test.shape[2], 1))\n",
        "        #self.input_shape = self.x_train.shape[1:]\n",
        "        \n",
        "        \n",
        "        # Transform label to one hot vector\n",
        "        #self.y_train = tf.keras.utils.to_categorical(self.y_train, 10)\n",
        "        #self.y_val   = tf.keras.utils.to_categorical(self.y_val, 10)\n",
        "        #self.y_test  = tf.keras.utils.to_categorical(self.y_test, 10)\n",
        "        \n",
        "        #self.nb_epochs  = 5\n",
        "        #self.batch_size = 128\n",
        "        \n",
        "        #print(\"Number training examples:  \", len(self.x_train))\n",
        "        #print(\"Number test examples:      \", len(self.x_test))\n",
        "        #print(\"Number validation examples:\", len(self.x_val))\n",
        "        #print(\"\\n\")\n",
        "        #print(\"\\tTrain Dataset      --> x_train: \" + str(np.shape(self.x_train)) + \"    y_train: \" + str(np.shape(self.y_train)))\n",
        "        #print(\"\\tValidation Dataset --> x_val:   \" + str(np.shape(self.x_val))   + \"    y_val:   \" + str(np.shape(self.y_val)))\n",
        "        print(\"\\tTesting Dataset    --> x_test:  \" + str(np.shape(self.x_test))  + \"    y_test:  \" + str(np.shape(self.y_test)))\n",
        "        print(\"\\tNumber of epochs:  \"+str(self.nb_epochs))\n",
        "        print(\"\\tBatch size:        \"+str(self.batch_size))\n",
        "        print(\"\\n\")\n",
        "        \n",
        "    def MLP_input_data_preparation(self):\n",
        "        self.input_shape = np.prod(self.x_train.shape[1:])\n",
        "        self.x_train = self.x_train.reshape(self.x_train.shape[0], self.input_shape)\n",
        "        self.x_val   = self.x_val.reshape(self.x_val.shape[0], self.input_shape)\n",
        "        self.x_test  = self.x_test.reshape(self.x_test.shape[0], self.input_shape)\n",
        "        \n",
        "        print (\"\\n\")\n",
        "        print (\"New dimensions after MLP reshape:\\n\")\n",
        "        print (\"Train Dataset      --> x_train: \" + str(np.shape(self.x_train)) + \"    y_train: \" + str(np.shape(self.y_train)))\n",
        "        print (\"Validation Dataset --> x_val:   \" + str(np.shape(self.x_val))   + \"    y_val:   \" + str(np.shape(self.y_val)))\n",
        "        print (\"Testing Dataset    --> x_test:  \" + str(np.shape(self.x_test))  + \"    y_test:  \" + str(np.shape(self.y_test)))\n",
        "        print (\"\\n\")\n",
        "    \n",
        "  "
      ],
      "metadata": {
        "colab": {
          "base_uri": "https://localhost:8080/",
          "height": 133
        },
        "id": "KCXoUV8x8I8_",
        "outputId": "b2003415-c41e-4ccd-dc17-e60e70aaa869"
      },
      "execution_count": null,
      "outputs": [
        {
          "output_type": "error",
          "ename": "IndentationError",
          "evalue": "ignored",
          "traceback": [
            "\u001b[0;36m  File \u001b[0;32m\"<ipython-input-62-b0cd09236575>\"\u001b[0;36m, line \u001b[0;32m36\u001b[0m\n\u001b[0;31m    self.y_train = tf.keras.utils.to_categorical(self.y_train, 10)\u001b[0m\n\u001b[0m    ^\u001b[0m\n\u001b[0;31mIndentationError\u001b[0m\u001b[0;31m:\u001b[0m unexpected indent\n"
          ]
        }
      ]
    },
    {
      "cell_type": "code",
      "source": [],
      "metadata": {
        "id": "ic3n0tYc_7ot"
      },
      "execution_count": null,
      "outputs": []
    }
  ]
}