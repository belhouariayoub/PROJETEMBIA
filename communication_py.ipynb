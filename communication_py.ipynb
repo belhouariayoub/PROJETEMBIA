{
 "cells": [
  {
   "cell_type": "code",
   "execution_count": 1,
   "id": "bfdafc1e",
   "metadata": {},
   "outputs": [
    {
     "name": "stderr",
     "output_type": "stream",
     "text": [
      "2022-10-18 13:59:36.675424: I tensorflow/core/platform/cpu_feature_guard.cc:193] This TensorFlow binary is optimized with oneAPI Deep Neural Network Library (oneDNN) to use the following CPU instructions in performance-critical operations:  AVX2 FMA\n",
      "To enable them in other operations, rebuild TensorFlow with the appropriate compiler flags.\n"
     ]
    }
   ],
   "source": [
    "#!/usr/bin/env python\n",
    "# coding: utf-8\n",
    "\n",
    "# In[2]:\n",
    "\n",
    "\n",
    "import sys, os, array, time\n",
    "import numpy as np\n",
    "import serial, math, secrets\n",
    "from random import *\n",
    "from ast import literal_eval\n",
    "import struct\n",
    "import tensorflow as tf\n",
    "from tensorflow import keras\n",
    "from serial import Serial\n",
    "\n",
    "from matplotlib import pyplot as plt"
   ]
  },
  {
   "cell_type": "code",
   "execution_count": 2,
   "id": "781c7d9d",
   "metadata": {},
   "outputs": [],
   "source": [
    "class timer:\n",
    "    def __init__(self, name=None):\n",
    "        self.name = name\n",
    "\n",
    "    def tic(self):\n",
    "        self.T_start = time.time()\n",
    "\n",
    "    def toc(self):\n",
    "        self.T_stop = time.time()\n",
    "        print(\"Elapsed time: \" + str(self.T_stop - self.T_start) + \" s\")"
   ]
  },
  {
   "cell_type": "code",
   "execution_count": 3,
   "id": "89a11721",
   "metadata": {},
   "outputs": [],
   "source": [
    "def perso_model_prediction(model, input_values, summary=False):\n",
    "    # Load an already existing model and test its outputs\n",
    "    to_be_tested_model = tf.keras.models.load_model(model)\n",
    "\n",
    "    if summary == True:\n",
    "        to_be_tested_model.summary()\n",
    "        for layers in to_be_tested_model.layers:\n",
    "            print(layers.kernel)\n",
    "\n",
    "    #add reshape\n",
    "    output_pred = to_be_tested_model.predict(input_values.reshape(-1,64,64,3))\n",
    "    return output_pred"
   ]
  },
  {
   "cell_type": "code",
   "execution_count": 4,
   "id": "d6a5fbc3",
   "metadata": {},
   "outputs": [],
   "source": [
    "class MODEL_set:\n",
    "    def __init__(self, used_model):\n",
    "        self.used_model = used_model\n",
    "\n",
    "        self.x_sample = -1\n",
    "        self.y_sample = -1\n",
    "\n",
    "        #we have 4 labels\n",
    "        self.received_output = np.zeros((1,4)) \n",
    "        #self.received_categories = np.zeros((3))\n",
    "\n",
    "    def set_dataset_from_xtest(self, path_xtest, path_ytest):\n",
    "        self.X_test = np.load(path_xtest).astype(dtype=np.float32)\n",
    "        self.Y_test = np.load(path_ytest).astype(dtype=np.float32)\n",
    "\n",
    "    def pick_rand_value_from_xtest(self):\n",
    "        rand_sample = randint(0, self.X_test.shape[0]-1)\n",
    "        self.x_sample = self.X_test[rand_sample]\n",
    "        self.y_sample = self.Y_test[rand_sample]\n",
    "        # return l'indice du grand élement dans y_samp càd 0\n",
    "        tmp = self.y_sample.argmax(axis=0)\n",
    "        print(\"Chosen input's corresponding label is \"+str(tmp)+\" according to y_test\")\n",
    "\n",
    "    def get_prediction(self):\n",
    "        print(self.x_sample.shape)\n",
    "        tmp_proba = perso_model_prediction(self.used_model, self.x_sample)\n",
    "        self.y_proba = tmp_proba\n",
    "        # j'ai changé axis =0 to axis=1\n",
    "        tmp = self.y_proba.argmax(axis=0) \n",
    "        print(\"\\nPYTHON:\")\n",
    "        print(\"Model prediction is \"+str(tmp)+\" with probability \"+str(self.y_proba[tmp]))\n",
    "        \n",
    "    def categorize_received_output(self):\n",
    "        print (\"STM32:\")\n",
    "        print (\"Obtained probabilities: \\n\" + str(self.received_output.round(decimals=4)))\n",
    "        index = self.received_output.argmax(axis=1) # index = 0\n",
    "        print (\"Model prediction is \"+str(index)+\" with probability \"+str(self.received_output[0][index])+\"\\n\")\n",
    "\n",
    "        if (self.y_sample.argmax(axis=0) != index):\n",
    "            print (\"***** Prediction does not match with y_test label\")\n",
    "        else:\n",
    "            print (\"***** Prediction matches with y_test label\")\n",
    "\n",
    "    def match_pred_label(self):\n",
    "        if (self.y_sample.argmax(axis=0) != self.received_output.argmax(axis=1)): # j'ai changé axis=0 to axis=1\n",
    "            return 1\n",
    "        else:\n",
    "            return 0\n",
    "\n"
   ]
  },
  {
   "cell_type": "code",
   "execution_count": 5,
   "id": "4bb107f9",
   "metadata": {},
   "outputs": [],
   "source": [
    "def synchronisation_with_target(debug=False):\n",
    "    sync = False\n",
    "    ret = None\n",
    "\n",
    "    while (sync == False):\n",
    "        ser.write(b\"sync\")\n",
    "        ret = ser.read(3)\n",
    "        if (ret == b\"101\"): # \"101\" has been chosen arbitrarily\n",
    "            sync = True\n",
    "            if (debug):\n",
    "                print(\"Synchronised\")\n",
    "        else:\n",
    "            if (debug):\n",
    "                print (\"Wrong ack reponse\")\n"
   ]
  },
  {
   "cell_type": "code",
   "execution_count": 6,
   "id": "beb74e1d",
   "metadata": {},
   "outputs": [],
   "source": [
    "def send_NN_inputs_to_STM32(MODEL_set, ser):\n",
    "    if not ser.isOpen():\n",
    "        print (\"Error: serial connection to be used isn't opened\")\n",
    "        sys.exit(-1)\n",
    "\n",
    "    # Synchronisation loop\n",
    "    print(\"trying to sync...\\n\")\n",
    "    synchronisation_with_target(True)\n",
    "    print(\"done sync\\n\")\n",
    "    # Send inputs to the Neural Network\n",
    "    input_sent = False\n",
    "    ser.flush()\n",
    "\n",
    "    tmp = MODEL_set.x_sample.reshape(64,64,3)\n",
    "    plt.imshow(tmp)\n",
    "    plt.show()\n",
    "    while(input_sent == False):\n",
    "        \n",
    "    #rgb\n",
    "        for k in range(3):\n",
    "            for i in range(64):\n",
    "                for j in range(64):\n",
    "                    ser.write(tmp[i,j,k])\n",
    "\n",
    "        input_sent = True\n",
    "\n",
    "    # Used for debug (i.e. get the picture sent)\n",
    "    #for i in range(28):\n",
    "    #   for j in range(28):\n",
    "    #       tmp[i][j] = struct.unpack('f', ser.read(4))[0]\n",
    "    #plt.imshow(tmp, cmap='gray')\n",
    "    #plt.show()\n",
    "\n",
    "    # wait for the output values generated by the STM32\n",
    "    out_ack = b\"000\"\n",
    "    while(out_ack != b\"010\"): # \"010\" has been chosen arbitrarily\n",
    "        out_ack = ser.read(3)\n",
    "\n",
    "    for i in range(4):\n",
    "        MODEL_set.received_output[0][i] = struct.unpack('f', ser.read(4))[0]\n",
    "\n",
    "    MODEL_set.categorize_received_output()\n"
   ]
  },
  {
   "cell_type": "code",
   "execution_count": 14,
   "id": "a0e77086",
   "metadata": {},
   "outputs": [
    {
     "name": "stdout",
     "output_type": "stream",
     "text": [
      "\n",
      "\n",
      "----------- Inference 0 requested: -----------\n",
      "\n",
      "Chosen input's corresponding label is 2 according to y_test\n",
      "\n",
      "\n"
     ]
    },
    {
     "ename": "SerialException",
     "evalue": "device reports readiness to read but returned no data (device disconnected or multiple access on port?)",
     "output_type": "error",
     "traceback": [
      "\u001b[0;31m---------------------------------------------------------------------------\u001b[0m",
      "\u001b[0;31mSerialException\u001b[0m                           Traceback (most recent call last)",
      "Cell \u001b[0;32mIn [14], line 28\u001b[0m\n\u001b[1;32m     24\u001b[0m t1\u001b[38;5;241m.\u001b[39mpick_rand_value_from_xtest()\n\u001b[1;32m     26\u001b[0m \u001b[38;5;28mprint\u001b[39m (\u001b[38;5;124m\"\u001b[39m\u001b[38;5;130;01m\\n\u001b[39;00m\u001b[38;5;124m\"\u001b[39m)\n\u001b[0;32m---> 28\u001b[0m \u001b[43msend_NN_inputs_to_STM32\u001b[49m\u001b[43m(\u001b[49m\u001b[43mt1\u001b[49m\u001b[43m,\u001b[49m\u001b[43m \u001b[49m\u001b[43mser\u001b[49m\u001b[43m)\u001b[49m\n\u001b[1;32m     30\u001b[0m \u001b[38;5;28;01mif\u001b[39;00m(t1\u001b[38;5;241m.\u001b[39mmatch_pred_label() \u001b[38;5;241m==\u001b[39m \u001b[38;5;241m1\u001b[39m):\n\u001b[1;32m     31\u001b[0m     nb_error \u001b[38;5;241m+\u001b[39m\u001b[38;5;241m=\u001b[39m \u001b[38;5;241m1\u001b[39m\n",
      "Cell \u001b[0;32mIn [7], line 32\u001b[0m, in \u001b[0;36msend_NN_inputs_to_STM32\u001b[0;34m(MODEL_set, ser)\u001b[0m\n\u001b[1;32m     30\u001b[0m out_ack \u001b[38;5;241m=\u001b[39m \u001b[38;5;124mb\u001b[39m\u001b[38;5;124m\"\u001b[39m\u001b[38;5;124m000\u001b[39m\u001b[38;5;124m\"\u001b[39m\n\u001b[1;32m     31\u001b[0m \u001b[38;5;28;01mwhile\u001b[39;00m(out_ack \u001b[38;5;241m!=\u001b[39m \u001b[38;5;124mb\u001b[39m\u001b[38;5;124m\"\u001b[39m\u001b[38;5;124m010\u001b[39m\u001b[38;5;124m\"\u001b[39m): \u001b[38;5;66;03m# \"010\" has been chosen arbitrarily\u001b[39;00m\n\u001b[0;32m---> 32\u001b[0m     out_ack \u001b[38;5;241m=\u001b[39m \u001b[43mser\u001b[49m\u001b[38;5;241;43m.\u001b[39;49m\u001b[43mread\u001b[49m\u001b[43m(\u001b[49m\u001b[38;5;241;43m3\u001b[39;49m\u001b[43m)\u001b[49m\n\u001b[1;32m     34\u001b[0m \u001b[38;5;28;01mfor\u001b[39;00m i \u001b[38;5;129;01min\u001b[39;00m \u001b[38;5;28mrange\u001b[39m(\u001b[38;5;241m4\u001b[39m):\n\u001b[1;32m     35\u001b[0m     MODEL_set\u001b[38;5;241m.\u001b[39mreceived_output[\u001b[38;5;241m0\u001b[39m][i] \u001b[38;5;241m=\u001b[39m struct\u001b[38;5;241m.\u001b[39munpack(\u001b[38;5;124m'\u001b[39m\u001b[38;5;124mf\u001b[39m\u001b[38;5;124m'\u001b[39m, ser\u001b[38;5;241m.\u001b[39mread(\u001b[38;5;241m4\u001b[39m))[\u001b[38;5;241m0\u001b[39m]\n",
      "File \u001b[0;32m/Library/Frameworks/Python.framework/Versions/3.10/lib/python3.10/site-packages/serial/serialposix.py:595\u001b[0m, in \u001b[0;36mSerial.read\u001b[0;34m(self, size)\u001b[0m\n\u001b[1;32m    588\u001b[0m \u001b[38;5;28;01melse\u001b[39;00m:\n\u001b[1;32m    589\u001b[0m     \u001b[38;5;66;03m# read should always return some data as select reported it was\u001b[39;00m\n\u001b[1;32m    590\u001b[0m     \u001b[38;5;66;03m# ready to read when we get to this point.\u001b[39;00m\n\u001b[1;32m    591\u001b[0m     \u001b[38;5;28;01mif\u001b[39;00m \u001b[38;5;129;01mnot\u001b[39;00m buf:\n\u001b[1;32m    592\u001b[0m         \u001b[38;5;66;03m# Disconnected devices, at least on Linux, show the\u001b[39;00m\n\u001b[1;32m    593\u001b[0m         \u001b[38;5;66;03m# behavior that they are always ready to read immediately\u001b[39;00m\n\u001b[1;32m    594\u001b[0m         \u001b[38;5;66;03m# but reading returns nothing.\u001b[39;00m\n\u001b[0;32m--> 595\u001b[0m         \u001b[38;5;28;01mraise\u001b[39;00m SerialException(\n\u001b[1;32m    596\u001b[0m             \u001b[38;5;124m'\u001b[39m\u001b[38;5;124mdevice reports readiness to read but returned no data \u001b[39m\u001b[38;5;124m'\u001b[39m\n\u001b[1;32m    597\u001b[0m             \u001b[38;5;124m'\u001b[39m\u001b[38;5;124m(device disconnected or multiple access on port?)\u001b[39m\u001b[38;5;124m'\u001b[39m)\n\u001b[1;32m    598\u001b[0m     read\u001b[38;5;241m.\u001b[39mextend(buf)\n\u001b[1;32m    600\u001b[0m \u001b[38;5;28;01mif\u001b[39;00m timeout\u001b[38;5;241m.\u001b[39mexpired():\n",
      "\u001b[0;31mSerialException\u001b[0m: device reports readiness to read but returned no data (device disconnected or multiple access on port?)"
     ]
    }
   ],
   "source": [
    "def send_NN_inputs_to_STM32(MODEL_set, ser):\n",
    "    if not ser.isOpen():\n",
    "        print (\"Error: serial connection to be used isn't opened\")\n",
    "        sys.exit(-1)\n",
    "\n",
    "    # Synchronisation loop\n",
    "    print(\"trying to sync...\\n\")\n",
    "    synchronisation_with_target(True)\n",
    "    print(\"done sync\\n\")\n",
    "    # Send inputs to the Neural Network\n",
    "    input_sent = False\n",
    "    ser.flush()\n",
    "\n",
    "    tmp = MODEL_set.x_sample.reshape(64,64,3)\n",
    "    plt.imshow(tmp)\n",
    "    plt.show()\n",
    "    while(input_sent == False):\n",
    "        \n",
    "    #rgb\n",
    "        for k in range(3):\n",
    "            for i in range(64):\n",
    "                for j in range(64):\n",
    "                    ser.write(tmp[i,j,k])\n",
    "\n",
    "        input_sent = True\n",
    "\n",
    "    # Used for debug (i.e. get the picture sent)\n",
    "    #for i in range(28):\n",
    "    #   for j in range(28):\n",
    "    #       tmp[i][j] = struct.unpack('f', ser.read(4))[0]\n",
    "    #plt.imshow(tmp, cmap='gray')\n",
    "    #plt.show()\n",
    "\n",
    "    # wait for the output values generated by the STM32\n",
    "    out_ack = b\"000\"\n",
    "    while(out_ack != b\"010\"): # \"010\" has been chosen arbitrarily\n",
    "        out_ack = ser.read(3)\n",
    "\n",
    "    for i in range(4):\n",
    "        MODEL_set.received_output[0][i] = struct.unpack('f', ser.read(4))[0]\n",
    "\n",
    "    MODEL_set.categorize_received_output()\n"
   ]
  },
  {
   "cell_type": "code",
   "execution_count": 7,
   "id": "3ee30588",
   "metadata": {},
   "outputs": [
    {
     "ename": "SerialException",
     "evalue": "[Errno 2] could not open port COM6: [Errno 2] No such file or directory: 'COM6'",
     "output_type": "error",
     "traceback": [
      "\u001b[0;31m---------------------------------------------------------------------------\u001b[0m",
      "\u001b[0;31mFileNotFoundError\u001b[0m                         Traceback (most recent call last)",
      "File \u001b[0;32m~/opt/anaconda3/lib/python3.9/site-packages/serial/serialposix.py:322\u001b[0m, in \u001b[0;36mSerial.open\u001b[0;34m(self)\u001b[0m\n\u001b[1;32m    321\u001b[0m \u001b[38;5;28;01mtry\u001b[39;00m:\n\u001b[0;32m--> 322\u001b[0m     \u001b[38;5;28mself\u001b[39m\u001b[38;5;241m.\u001b[39mfd \u001b[38;5;241m=\u001b[39m \u001b[43mos\u001b[49m\u001b[38;5;241;43m.\u001b[39;49m\u001b[43mopen\u001b[49m\u001b[43m(\u001b[49m\u001b[38;5;28;43mself\u001b[39;49m\u001b[38;5;241;43m.\u001b[39;49m\u001b[43mportstr\u001b[49m\u001b[43m,\u001b[49m\u001b[43m \u001b[49m\u001b[43mos\u001b[49m\u001b[38;5;241;43m.\u001b[39;49m\u001b[43mO_RDWR\u001b[49m\u001b[43m \u001b[49m\u001b[38;5;241;43m|\u001b[39;49m\u001b[43m \u001b[49m\u001b[43mos\u001b[49m\u001b[38;5;241;43m.\u001b[39;49m\u001b[43mO_NOCTTY\u001b[49m\u001b[43m \u001b[49m\u001b[38;5;241;43m|\u001b[39;49m\u001b[43m \u001b[49m\u001b[43mos\u001b[49m\u001b[38;5;241;43m.\u001b[39;49m\u001b[43mO_NONBLOCK\u001b[49m\u001b[43m)\u001b[49m\n\u001b[1;32m    323\u001b[0m \u001b[38;5;28;01mexcept\u001b[39;00m \u001b[38;5;167;01mOSError\u001b[39;00m \u001b[38;5;28;01mas\u001b[39;00m msg:\n",
      "\u001b[0;31mFileNotFoundError\u001b[0m: [Errno 2] No such file or directory: 'COM6'",
      "\nDuring handling of the above exception, another exception occurred:\n",
      "\u001b[0;31mSerialException\u001b[0m                           Traceback (most recent call last)",
      "Input \u001b[0;32mIn [7]\u001b[0m, in \u001b[0;36m<cell line: 1>\u001b[0;34m()\u001b[0m\n\u001b[1;32m      3\u001b[0m tf\u001b[38;5;241m.\u001b[39mautograph\u001b[38;5;241m.\u001b[39mset_verbosity(\u001b[38;5;241m0\u001b[39m)\n\u001b[1;32m      4\u001b[0m nb_inference \u001b[38;5;241m=\u001b[39m \u001b[38;5;241m1\u001b[39m\n\u001b[0;32m----> 5\u001b[0m \u001b[38;5;28;01mwith\u001b[39;00m \u001b[43mserial\u001b[49m\u001b[38;5;241;43m.\u001b[39;49m\u001b[43mSerial\u001b[49m\u001b[43m(\u001b[49m\u001b[38;5;124;43m\"\u001b[39;49m\u001b[38;5;124;43mCOM6\u001b[39;49m\u001b[38;5;124;43m\"\u001b[39;49m\u001b[43m,\u001b[49m\u001b[43m \u001b[49m\u001b[38;5;241;43m115200\u001b[39;49m\u001b[43m,\u001b[49m\u001b[43m \u001b[49m\u001b[43mtimeout\u001b[49m\u001b[38;5;241;43m=\u001b[39;49m\u001b[38;5;241;43m1\u001b[39;49m\u001b[43m)\u001b[49m \u001b[38;5;28;01mas\u001b[39;00m ser: \u001b[38;5;66;03m# COM5 for H743 (nucleo) and COM6 for F411 (Nucleo)\u001b[39;00m\n\u001b[1;32m      6\u001b[0m     chrono \u001b[38;5;241m=\u001b[39m timer(\u001b[38;5;124m\"\u001b[39m\u001b[38;5;124mChrono\u001b[39m\u001b[38;5;124m\"\u001b[39m)\n\u001b[1;32m      8\u001b[0m     \u001b[38;5;66;03m# Model available for board's results comparaison\u001b[39;00m\n",
      "File \u001b[0;32m~/opt/anaconda3/lib/python3.9/site-packages/serial/serialutil.py:244\u001b[0m, in \u001b[0;36mSerialBase.__init__\u001b[0;34m(self, port, baudrate, bytesize, parity, stopbits, timeout, xonxoff, rtscts, write_timeout, dsrdtr, inter_byte_timeout, exclusive, **kwargs)\u001b[0m\n\u001b[1;32m    241\u001b[0m     \u001b[38;5;28;01mraise\u001b[39;00m \u001b[38;5;167;01mValueError\u001b[39;00m(\u001b[38;5;124m'\u001b[39m\u001b[38;5;124munexpected keyword arguments: \u001b[39m\u001b[38;5;132;01m{!r}\u001b[39;00m\u001b[38;5;124m'\u001b[39m\u001b[38;5;241m.\u001b[39mformat(kwargs))\n\u001b[1;32m    243\u001b[0m \u001b[38;5;28;01mif\u001b[39;00m port \u001b[38;5;129;01mis\u001b[39;00m \u001b[38;5;129;01mnot\u001b[39;00m \u001b[38;5;28;01mNone\u001b[39;00m:\n\u001b[0;32m--> 244\u001b[0m     \u001b[38;5;28;43mself\u001b[39;49m\u001b[38;5;241;43m.\u001b[39;49m\u001b[43mopen\u001b[49m\u001b[43m(\u001b[49m\u001b[43m)\u001b[49m\n",
      "File \u001b[0;32m~/opt/anaconda3/lib/python3.9/site-packages/serial/serialposix.py:325\u001b[0m, in \u001b[0;36mSerial.open\u001b[0;34m(self)\u001b[0m\n\u001b[1;32m    323\u001b[0m \u001b[38;5;28;01mexcept\u001b[39;00m \u001b[38;5;167;01mOSError\u001b[39;00m \u001b[38;5;28;01mas\u001b[39;00m msg:\n\u001b[1;32m    324\u001b[0m     \u001b[38;5;28mself\u001b[39m\u001b[38;5;241m.\u001b[39mfd \u001b[38;5;241m=\u001b[39m \u001b[38;5;28;01mNone\u001b[39;00m\n\u001b[0;32m--> 325\u001b[0m     \u001b[38;5;28;01mraise\u001b[39;00m SerialException(msg\u001b[38;5;241m.\u001b[39merrno, \u001b[38;5;124m\"\u001b[39m\u001b[38;5;124mcould not open port \u001b[39m\u001b[38;5;132;01m{}\u001b[39;00m\u001b[38;5;124m: \u001b[39m\u001b[38;5;132;01m{}\u001b[39;00m\u001b[38;5;124m\"\u001b[39m\u001b[38;5;241m.\u001b[39mformat(\u001b[38;5;28mself\u001b[39m\u001b[38;5;241m.\u001b[39m_port, msg))\n\u001b[1;32m    326\u001b[0m \u001b[38;5;66;03m#~ fcntl.fcntl(self.fd, fcntl.F_SETFL, 0)  # set blocking\u001b[39;00m\n\u001b[1;32m    328\u001b[0m \u001b[38;5;28mself\u001b[39m\u001b[38;5;241m.\u001b[39mpipe_abort_read_r, \u001b[38;5;28mself\u001b[39m\u001b[38;5;241m.\u001b[39mpipe_abort_read_w \u001b[38;5;241m=\u001b[39m \u001b[38;5;28;01mNone\u001b[39;00m, \u001b[38;5;28;01mNone\u001b[39;00m\n",
      "\u001b[0;31mSerialException\u001b[0m: [Errno 2] could not open port COM6: [Errno 2] No such file or directory: 'COM6'"
     ]
    }
   ],
   "source": [
    "if __name__ == '__main__':\n",
    "\n",
    "    tf.autograph.set_verbosity(0)\n",
    "    nb_inference = 1\n",
    "    with serial.Serial(\"COM6\", 115200, timeout=1) as ser: # COM5 for H743 (nucleo) and COM6 for F411 (Nucleo)\n",
    "        chrono = timer(\"Chrono\")\n",
    "    \n",
    "        # Model available for board's results comparaison\n",
    "        used_model = \"model.h5\"\n",
    "    \n",
    "        # X_test and Y_test dataset available for inference\n",
    "        path_xtest = \"x_test.npy\"\n",
    "        path_ytest = \"y_test_onehot.npy\" #we should use one hot vector for y          \n",
    "        i = 0\n",
    "        nb_error = 0\n",
    "        errored_elem = []\n",
    "    \n",
    "        chrono.tic()\n",
    "        while(i < nb_inference):\n",
    "            print (\"\\n\\n----------- Inference \"+str(i)+\" requested: -----------\\n\")\n",
    "    \n",
    "            t1 = MODEL_set(used_model)\n",
    "            t1.set_dataset_from_xtest(path_xtest, path_ytest)\n",
    "            t1.pick_rand_value_from_xtest()\n",
    "            #t1.get_prediction()\n",
    "            print (\"\\n done\\n\")\n",
    "    \n",
    "            send_NN_inputs_to_STM32(t1, ser)\n",
    "            print(\"---------\\n\")\n",
    "    \n",
    "            if(t1.match_pred_label() == 1):\n",
    "                nb_error += 1\n",
    "                errored_elem.append(t1)\n",
    "    \n",
    "            i = i + 1\n",
    "    \n",
    "            del t1\n",
    "    \n",
    "        print ('\\n')\n",
    "        chrono.toc()\n",
    "        print (\"\\nAll inferences have been effected\")\n",
    "        print (\"\\nNumber of error reported according to y_test: \"+str(nb_error))\n",
    "        ser.close()\n"
   ]
  },
  {
   "cell_type": "code",
   "execution_count": 11,
   "id": "d2300787",
   "metadata": {},
   "outputs": [
    {
     "name": "stderr",
     "output_type": "stream",
     "text": [
      "2022-10-17 09:15:44.534524: I tensorflow/core/platform/cpu_feature_guard.cc:193] This TensorFlow binary is optimized with oneAPI Deep Neural Network Library (oneDNN) to use the following CPU instructions in performance-critical operations:  AVX2 FMA\n",
      "To enable them in other operations, rebuild TensorFlow with the appropriate compiler flags.\n"
     ]
    },
    {
     "name": "stdout",
     "output_type": "stream",
     "text": [
      "1/1 [==============================] - 0s 400ms/step\n"
     ]
    },
    {
     "data": {
      "text/plain": [
       "array([[9.9990845e-01, 5.3810814e-05, 1.5914533e-05, 2.1767675e-05]],\n",
       "      dtype=float32)"
      ]
     },
     "execution_count": 11,
     "metadata": {},
     "output_type": "execute_result"
    }
   ],
   "source": []
  },
  {
   "cell_type": "code",
   "execution_count": null,
   "id": "2504cc82",
   "metadata": {},
   "outputs": [],
   "source": []
  },
  {
   "cell_type": "code",
   "execution_count": null,
   "id": "0db45106",
   "metadata": {},
   "outputs": [],
   "source": []
  }
 ],
 "metadata": {
  "kernelspec": {
   "display_name": "Python 3 (ipykernel)",
   "language": "python",
   "name": "python3"
  },
  "language_info": {
   "codemirror_mode": {
    "name": "ipython",
    "version": 3
   },
   "file_extension": ".py",
   "mimetype": "text/x-python",
   "name": "python",
   "nbconvert_exporter": "python",
   "pygments_lexer": "ipython3",
   "version": "3.9.12"
  }
 },
 "nbformat": 4,
 "nbformat_minor": 5
}
