{
 "cells": [
  {
   "cell_type": "code",
   "execution_count": 1,
   "id": "babb5296",
   "metadata": {},
   "outputs": [],
   "source": [
    "import os \n",
    "import numpy as np\n",
    "from PIL import Image as pil_image\n",
    "import matplotlib.pyplot as plt\n",
    "import tensorflow as tf \n",
    "\n",
    "# For Data Augmentation\n",
    "from keras.preprocessing.image import ImageDataGenerator\n",
    "from tensorflow.keras.utils import array_to_img, img_to_array, load_img"
   ]
  },
  {
   "cell_type": "code",
   "execution_count": 2,
   "id": "0f39e62e",
   "metadata": {},
   "outputs": [
    {
     "name": "stdout",
     "output_type": "stream",
     "text": [
      "{'sal_data_100': 0, 'sal_data_50': 1, 'sal_data_80': 2, 'sal_data_empty': 3}\n"
     ]
    }
   ],
   "source": [
    "# Path for images and labels' list\n",
    "PATH=\"/Users/belhouariayoub/Documents/ISMIN3A/Embedded IA/Saline_bottle_original_size/\"\n",
    "folders=['sal_data_100','sal_data_50','sal_data_80','sal_data_empty']\n",
    "list_input = ['sal_data_100','sal_data_50','sal_data_80','sal_data_empty']\n",
    "\n",
    "def create_classes(list_input):\n",
    "    classes_dict = {}\n",
    "    count_dict = {}\n",
    "    for i in range(len(folders)):\n",
    "        key_word= folders[i]\n",
    "        if key_word in list_input:\n",
    "            #get the index of the list:\n",
    "            index = list_input.index(key_word)\n",
    "            classes_dict[key_word] = index\n",
    "        else:\n",
    "            count_dict[key_word] = 0\n",
    "            classes_dict[key_word] = len(list_input)\n",
    "    return classes_dict, count_dict\n",
    "\n",
    "# Getting our 4 classes with their index;\n",
    "classes_dict, count_dict = create_classes(list_input)\n",
    "print(classes_dict)\n",
    "\n"
   ]
  },
  {
   "cell_type": "code",
   "execution_count": 23,
   "id": "e363025c",
   "metadata": {},
   "outputs": [
    {
     "name": "stdout",
     "output_type": "stream",
     "text": [
      "/Users/belhouariayoub/Documents/ISMIN3A/Embedded IA/PROJETBELHOUARIDAHER\n",
      "/Users/belhouariayoub/Documents/ISMIN3A/Embedded IA/PROJETBELHOUARIDAHER/resize_sal_data_temp_del/\n",
      "/Users/belhouariayoub/Documents/ISMIN3A/Embedded IA/PROJETBELHOUARIDAHER/data_label/\n"
     ]
    }
   ],
   "source": [
    "resize_path= os.getcwd()\n",
    "print(resize_path)\n",
    "resize_path=os.path.join(resize_path,\"resize_sal_data_temp_del/\")\n",
    "print(resize_path)\n",
    "\n",
    "data_label_path = os.getcwd()\n",
    "data_label_path=os.path.join(data_label_path,\"data_label/\")\n",
    "print(data_label_path)\n",
    "\n",
    "# Creating a Directory for data labels\n",
    "if not os.path.isdir(data_label_path):\n",
    "    print(\"Creating the directory\")\n",
    "    os.makedirs(data_label_path)\n",
    "\n",
    "# Creating a Directory for Data\n",
    "if not os.path.isdir(resize_path):\n",
    "    print(\"Creating the directory\")\n",
    "    os.makedirs(resize_path)\n",
    "\n",
    "for label in folders:\n",
    "    label_dir = os.path.join(resize_path,label)\n",
    "    if not os.path.isdir(label_dir):\n",
    "        os.makedirs(label_dir)"
   ]
  },
  {
   "cell_type": "code",
   "execution_count": null,
   "id": "2559d6c0",
   "metadata": {},
   "outputs": [],
   "source": [
    "# Open original Images\n",
    "img_dir = os.listdir(PATH)\n",
    "print(img_dir)\n",
    "img_dir.remove(\".DS_Store\") \n",
    "print(img_dir)\n",
    "\n",
    "# txt file containing each Image name with its label (ex: sal_data_50/IMG20200208155539.jpg)\n",
    "data_file = open(\"data_label/saline_data_label.txt\",'w')\n",
    "\n",
    "for dir in img_dir:\n",
    "    img_path = PATH + \"/\" + dir\n",
    "    for img in os.listdir(img_path):\n",
    "        print(dir+'/'+img)\n",
    "        data_file.write(dir+'/'+img+\"\\n\")\n",
    "\n",
    "data_file.close() "
   ]
  },
  {
   "cell_type": "code",
   "execution_count": null,
   "id": "cebe836c",
   "metadata": {},
   "outputs": [],
   "source": [
    "from PIL import Image\n",
    "import PIL.ImageOps  \n",
    "import cv2\n",
    "res=64\n",
    "# open the label/data file\n",
    "f = open(\"data_label/saline_data_label.txt\", \"r\")\n",
    "# form list from the given file\n",
    "lines = f.readlines()\n",
    "X_org = []\n",
    "Y_org = []\n",
    "# Mention the resize image shape\n",
    "size = (res,res)\n",
    "resize_loc_path = resize_path\n",
    "for line in lines:\n",
    "  try:\n",
    "    # remove the \\n \n",
    "    line = line.strip('\\n')\n",
    "    # separate label and data\n",
    "    label, file_name = line.split(\"/\")\n",
    "    # folders contains all the required labels\n",
    "    if label in folders:\n",
    "       file_path = PATH + label + \"/\" + file_name\n",
    "        # open the original size image\n",
    "       img = pil_image.open(file_path)\n",
    "\n",
    "    # to use negative on images \n",
    "    ##inverted_img = PIL.ImageOps.invert(img)\n",
    "\n",
    "    # to convert to YCrCb\n",
    "       imgYCC = cv2.cvtColor(img, cv2.COLOR_BGR2YCR_CB) # or inverted_img \n",
    "       \n",
    "    # resize the original image to the size mentioned\n",
    "       img_reshape=inverted_img.resize(size) ## choose: img, imgYCC, inverted_img\n",
    "    # print(img_reshape.format, img_reshape.size, img_reshape.mode)\n",
    "    # Location of the resized image as per the label\n",
    "       resize_loc= resize_loc_path + label + \"/\" + file_name\n",
    "    # checks if the resized is does not exist already \n",
    "       if file_name not in resize_loc_path + label + \"/\":\n",
    "          img_reshape.save(resize_loc)\n",
    "       \n",
    "    # converting the image object to \n",
    "       np_im = np.array(img_reshape)\n",
    "       class_number=classes_dict[label] \n",
    "       X_org.append(np_im)\n",
    "       Y_org.append(class_number)\n",
    "       \n",
    "\n",
    "  except Exception as e:\n",
    "           print(str(e))\n",
    "    \n",
    "X_org = np.array(X_org)\n",
    "Y_org = np.array(Y_org)\n",
    "# Saving original Images and Labels to .npy\n",
    "np.save('Y_org.npy', Y_org)\n",
    "np.save('X_org.npy', X_org)"
   ]
  },
  {
   "cell_type": "code",
   "execution_count": null,
   "id": "461a182c",
   "metadata": {
    "scrolled": false
   },
   "outputs": [],
   "source": [
    "print(Y_org[:1000])"
   ]
  },
  {
   "cell_type": "code",
   "execution_count": 6,
   "id": "7cda3690",
   "metadata": {},
   "outputs": [
    {
     "name": "stdout",
     "output_type": "stream",
     "text": [
      "/Users/belhouariayoub/Documents/ISMIN3A/Embedded IA/PROJETBELHOUARIDAHER\n",
      "Creating the directory\n"
     ]
    }
   ],
   "source": [
    "augmented_path= os.getcwd()\n",
    "print(augmented_path)\n",
    "augmented_path=os.path.join(augmented_path,\"resize_sal_data_augmented/\")\n",
    "# Creating Directory for augmented data\n",
    "if not os.path.isdir(augmented_path):\n",
    "    print(\"Creating the directory\")\n",
    "    os.makedirs(augmented_path)\n",
    "    \n",
    "for label in folders:\n",
    "    label_dir=os.path.join(augmented_path,label)\n",
    "    if not os.path.isdir(label_dir):\n",
    "        os.makedirs(label_dir)\n"
   ]
  },
  {
   "cell_type": "code",
   "execution_count": 7,
   "id": "b9a84f86",
   "metadata": {},
   "outputs": [
    {
     "name": "stdout",
     "output_type": "stream",
     "text": [
      "/Users/belhouariayoub/Documents/ISMIN3A/Embedded IA/PROJETBELHOUARIDAHER/resize_sal_data_augmented/\n",
      "/Users/belhouariayoub/Documents/ISMIN3A/Embedded IA/PROJETBELHOUARIDAHER\n"
     ]
    }
   ],
   "source": [
    "print(augmented_path)\n",
    "print(os.getcwd())"
   ]
  },
  {
   "cell_type": "code",
   "execution_count": 13,
   "id": "47ba80a5",
   "metadata": {},
   "outputs": [],
   "source": [
    "from PIL import Image\n",
    "import PIL.ImageOps  \n",
    "import cv2\n",
    "res = 64\n",
    "# open the label/data file\n",
    "f = open(\"data_label/saline_data_label.txt\", \"r\")\n",
    "\n",
    "# form list from the given file\n",
    "lines = f.readlines()\n",
    "X_aug = []\n",
    "Y_aug = []\n",
    "\n",
    "# Mention the resize image shape\n",
    "size=(res,res)\n",
    "\n",
    "augmented_loc_path=augmented_path\n",
    "\n",
    "# Augmented data generator\n",
    "datagen = ImageDataGenerator(\n",
    "        rotation_range=40,\n",
    "        width_shift_range=0.2,\n",
    "        height_shift_range=0.2,\n",
    "        shear_range=0.2,\n",
    "        zoom_range=0.2,\n",
    "        horizontal_flip=True,\n",
    "        fill_mode='nearest')\n",
    "\n",
    "for line in lines:\n",
    "  try:\n",
    "    # remove the \\n \n",
    "    line = line.strip('\\n')\n",
    "    # separate label and data\n",
    "    label, file_name = line.split(\"/\")\n",
    "    # folders contains all the required labels\n",
    "    if label in folders:\n",
    "       file_path = PATH + label + \"/\" + file_name\n",
    "       # open the original size image\n",
    "       img=pil_image.open(file_path)\n",
    "       \n",
    "       #to use inverted images \n",
    "       inverted_img = PIL.ImageOps.invert(img)\n",
    "\n",
    "       #to convert to YCrCb\n",
    "       #imgYCC = cv2.cvtColor(img, cv2.COLOR_BGR2YCR_CB) # or inverted_img \n",
    "\n",
    "       # resize the original image to the size mentioned\n",
    "       img_reshape=inverted_img.resize(size) ## choose: img, imgYCC, inverted_img\n",
    "       # print(img_reshape.format, img_reshape.size, img_reshape.mode)\n",
    "       \n",
    "       # Location of the resized image as per the label\n",
    "       augmented_loc= augmented_loc_path + label + \"/\" + file_name\n",
    "       aug_dir=augmented_loc_path + label\n",
    "        \n",
    "       x = img_to_array(img_reshape)  # this is a Numpy array with shape (3, 64, 64) if size = 64,64\n",
    "       x = x.reshape((1,) + x.shape)  # this is a Numpy array with shape (1, 3, 64, 64) if size = 64,64\n",
    "        \n",
    "       # checks if the resized does not exist already \n",
    "       img_reshape.save(augmented_loc)\n",
    "       # the .flow() command below generates batches of randomly transformed images\n",
    "       # and saves the results to the directory\n",
    "       i = 0\n",
    "       for batch in datagen.flow(x, batch_size=1,\n",
    "                                 save_to_dir=aug_dir, save_prefix='IMG_AUG', save_format='jpg'):\n",
    "           i += 1\n",
    "           if i > 20:\n",
    "               break  # otherwise the generator would loop indefinitely\n",
    "        \n",
    "        \n",
    "       # converting the image object to \n",
    "       np_im = np.array(img_reshape)\n",
    "       class_number=classes_dict[label] \n",
    "       X_aug.append(np_im)\n",
    "       Y_aug.append(class_number)\n",
    "       \n",
    "\n",
    "  except Exception as e:\n",
    "           print(str(e))\n",
    "\n",
    "# Convert the data augmented images to numpy array\n",
    "X_aug = np.array(X_aug)\n",
    "Y_aug = np.array(Y_aug)"
   ]
  },
  {
   "cell_type": "code",
   "execution_count": 14,
   "id": "fad9aa1d",
   "metadata": {},
   "outputs": [],
   "source": [
    "# Save the data augmented images as npy\n",
    "np.save('Y_aug.npy', Y_aug)\n",
    "np.save('X_aug.npy', X_aug)"
   ]
  },
  {
   "cell_type": "code",
   "execution_count": 18,
   "id": "17f5f8f6",
   "metadata": {},
   "outputs": [
    {
     "data": {
      "text/plain": [
       "<matplotlib.image.AxesImage at 0x14ecd3460>"
      ]
     },
     "execution_count": 18,
     "metadata": {},
     "output_type": "execute_result"
    },
    {
     "data": {
      "image/png": "[encoded data removed]",
      "text/plain": [
       "<Figure size 640x480 with 1 Axes>"
      ]
     },
     "metadata": {},
     "output_type": "display_data"
    }
   ],
   "source": [
    "# Example of a data-augmented image\n",
    "plt.imshow(X_aug[1878])"
   ]
  },
  {
   "cell_type": "code",
   "execution_count": 50,
   "id": "b4b78da0",
   "metadata": {},
   "outputs": [
    {
     "data": {
      "text/plain": [
       "<matplotlib.image.AxesImage at 0x155b5dba0>"
      ]
     },
     "execution_count": 50,
     "metadata": {},
     "output_type": "execute_result"
    },
    {
     "data": {
      "image/png": "[encoded data removed]",
      "text/plain": [
       "<Figure size 640x480 with 1 Axes>"
      ]
     },
     "metadata": {},
     "output_type": "display_data"
    }
   ],
   "source": [
    "# Plotting an original image\n",
    "X1=np.load(\"X_org.npy\")\n",
    "plt.imshow(X1[1000])"
   ]
  },
  {
   "cell_type": "code",
   "execution_count": 33,
   "id": "60089e1e",
   "metadata": {},
   "outputs": [],
   "source": [
    "X3=tf.keras.layers.Concatenate(axis=0)([X1,X2])"
   ]
  },
  {
   "cell_type": "code",
   "execution_count": 43,
   "id": "626b5a1d",
   "metadata": {
    "scrolled": true
   },
   "outputs": [
    {
     "data": {
      "text/plain": [
       "<matplotlib.image.AxesImage at 0x1559016f0>"
      ]
     },
     "execution_count": 43,
     "metadata": {},
     "output_type": "execute_result"
    },
    {
     "data": {
      "image/png": "[encoded data removed]",
      "text/plain": [
       "<Figure size 640x480 with 1 Axes>"
      ]
     },
     "metadata": {},
     "output_type": "display_data"
    }
   ],
   "source": [
    "plt.imshow(X1[0])"
   ]
  },
  {
   "cell_type": "code",
   "execution_count": null,
   "id": "cb06b4a2",
   "metadata": {},
   "outputs": [],
   "source": [
    "PIL.Image.open(str(X_aug[0]))"
   ]
  },
  {
   "cell_type": "code",
   "execution_count": 20,
   "id": "a0ab923a",
   "metadata": {},
   "outputs": [
    {
     "name": "stdout",
     "output_type": "stream",
     "text": [
      "(4217, 64, 64, 3)\n"
     ]
    }
   ],
   "source": [
    "print(X_aug.shape)"
   ]
  }
 ],
 "metadata": {
  "kernelspec": {
   "display_name": "Python 3 (ipykernel)",
   "language": "python",
   "name": "python3"
  },
  "language_info": {
   "codemirror_mode": {
    "name": "ipython",
    "version": 3
   },
   "file_extension": ".py",
   "mimetype": "text/x-python",
   "name": "python",
   "nbconvert_exporter": "python",
   "pygments_lexer": "ipython3",
   "version": "3.10.6"
  }
 },
 "nbformat": 4,
 "nbformat_minor": 5
}
