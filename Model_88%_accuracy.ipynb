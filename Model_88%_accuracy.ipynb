{
  "nbformat": 4,
  "nbformat_minor": 0,
  "metadata": {
    "colab": {
      "provenance": [],
      "collapsed_sections": [],
      "mount_file_id": "1XbpEWzM3Cd07KVei6LnTWYQfK6keZwmY",
      "authorship_tag": "ABX9TyPb4eznVV8QauphBbk8NwkM",
      "include_colab_link": true
    },
    "kernelspec": {
      "name": "python3",
      "display_name": "Python 3"
    },
    "language_info": {
      "name": "python"
    }
  },
  "cells": [
    {
      "cell_type": "markdown",
      "metadata": {
        "id": "view-in-github",
        "colab_type": "text"
      },
      "source": [
        "<a href=\"https://colab.research.google.com/github/belhouariayoub/PROJETEMBIA/blob/main/Model_88%25_accuracy.ipynb\" target=\"_parent\"><img src=\"https://colab.research.google.com/assets/colab-badge.svg\" alt=\"Open In Colab\"/></a>"
      ]
    },
    {
      "cell_type": "code",
      "source": [
        "import sys, os, array, time\n",
        "import numpy as np\n",
        "import matplotlib.pyplot as plt\n",
        "import IPython\n",
        "\n",
        "import tensorflow as tf\n",
        "from tensorflow import keras\n",
        "from tensorflow.keras import layers, models\n",
        "from keras.layers import Dropout,Dense\n",
        "from sklearn.model_selection import train_test_split\n",
        "from tensorflow.python.ops.gen_array_ops import mirror_pad_eager_fallback\n",
        "\n",
        "from sklearn.utils import shuffle\n"
      ],
      "metadata": {
        "id": "CvyhsZYdvph0"
      },
      "execution_count": 105,
      "outputs": []
    },
    {
      "cell_type": "code",
      "source": [
        "from google.colab import drive\n",
        "drive.mount('/content/drive')\n",
        "%cd \"/content/drive/MyDrive/EMBEDDEDIA/Saline_bottle_original_size/\""
      ],
      "metadata": {
        "id": "FqC6t6MUdfxJ",
        "colab": {
          "base_uri": "https://localhost:8080/"
        },
        "outputId": "03b191c9-e55f-47bf-c45d-a97cc1f2ac82"
      },
      "execution_count": 106,
      "outputs": [
        {
          "output_type": "stream",
          "name": "stdout",
          "text": [
            "Drive already mounted at /content/drive; to attempt to forcibly remount, call drive.mount(\"/content/drive\", force_remount=True).\n",
            "/content/drive/MyDrive/EMBEDDEDIA/Saline_bottle_original_size\n"
          ]
        }
      ]
    },
    {
      "cell_type": "code",
      "source": [
        "!ls"
      ],
      "metadata": {
        "colab": {
          "base_uri": "https://localhost:8080/"
        },
        "id": "9YGwlfUE-k69",
        "outputId": "6634a563-ec06-44f7-a2c3-13e239cbfc61"
      },
      "execution_count": 107,
      "outputs": [
        {
          "output_type": "stream",
          "name": "stdout",
          "text": [
            "data_label\t\t   sal_data_100  sal_data_empty\n",
            "resize_sal_data_augmented  sal_data_50\t X_org.npy\n",
            "resize_sal_data_temp_del   sal_data_80\t Y_org.npy\n"
          ]
        }
      ]
    },
    {
      "cell_type": "code",
      "source": [
        "X_data = []\n",
        "Y_data = []\n",
        "X_data=np.load('X_org.npy')/255\n",
        "Y_data=np.load('Y_org.npy')\n",
        "X, Y = shuffle(X_data,Y_data)\n",
        "x_train,x_test,y_train,y_test = train_test_split(X,Y,random_state=0)\n",
        "#x_train=x_train.reshape(-1,64,64,3)\n",
        "#x_test=x_test.reshape(-1,64,64,3)\n",
        "y_train=y_train.reshape(y_train.shape[0],1)\n",
        "y_test=y_test.reshape(y_test.shape[0],1)\n",
        "#x_train=np.reshape(x_train,(3162,-1))\n",
        "\n",
        "data_augmentation = keras.Sequential([\n",
        "    layers.experimental.preprocessing.RandomFlip(\"horizontal\", input_shape=(64,64,3)),\n",
        "    layers.experimental.preprocessing.RandomRotation(0.1),\n",
        "    layers.experimental.preprocessing.RandomZoom(0.1)\n",
        "])\n",
        "\n"
      ],
      "metadata": {
        "id": "qg6qxJWsXsii"
      },
      "execution_count": 108,
      "outputs": []
    },
    {
      "cell_type": "code",
      "source": [
        "y_train.shape"
      ],
      "metadata": {
        "colab": {
          "base_uri": "https://localhost:8080/"
        },
        "id": "K0F5BPGHaAit",
        "outputId": "9eac6dc7-751a-4425-8890-071d6dbaed19"
      },
      "execution_count": null,
      "outputs": [
        {
          "output_type": "execute_result",
          "data": {
            "text/plain": [
              "(3162, 1)"
            ]
          },
          "metadata": {},
          "execution_count": 99
        }
      ]
    },
    {
      "cell_type": "code",
      "source": [
        "# Small CNN for MNIST recognition\n",
        "model = models.Sequential()\n",
        "# Dense layer\n",
        "#model.add(data_augmentation)\n",
        "model.add(layers.Conv2D(32, (3, 3), activation='relu',padding='same', input_shape=(64,64,3)))\n",
        "# model.add(layers.MaxPooling2D((2, 2), padding='valid'))\n",
        "\n",
        "model.add(layers.Conv2D(32, (3, 3), activation='relu'))\n",
        "model.add(layers.MaxPooling2D((2, 2), padding='valid'))\n",
        "model.add(Dropout(0.2))     \n",
        "model.add(layers.Conv2D(64, (3, 3), padding='same', activation='relu'))\n",
        "model.add(layers.Conv2D(64, (3, 3), padding='same', activation='relu'))\n",
        "model.add(layers.MaxPooling2D((2, 2), padding='valid'))\n",
        "model.add(Dropout(0.2))\n",
        "model.add(layers.Flatten())\n",
        "model.add(layers.Dense(512, activation='relu'))\n",
        "model.add(Dropout(0.2))\n",
        "model.add(layers.Dense(4, activation='softmax'))\n",
        "model.summary()\n",
        "model.compile(optimizer='adam',loss=tf.keras.losses.SparseCategoricalCrossentropy(from_logits=True),metrics=['accuracy'])\n",
        "r = model.fit(\n",
        "  x_train, y_train, validation_data=(x_test, y_test), epochs=15)"
      ],
      "metadata": {
        "id": "DDlqVHMLPcLV",
        "colab": {
          "base_uri": "https://localhost:8080/"
        },
        "outputId": "21986d06-6681-43f6-d4e0-413f1be2a042"
      },
      "execution_count": 111,
      "outputs": [
        {
          "output_type": "stream",
          "name": "stdout",
          "text": [
            "Model: \"sequential_38\"\n",
            "_________________________________________________________________\n",
            " Layer (type)                Output Shape              Param #   \n",
            "=================================================================\n",
            " conv2d_64 (Conv2D)          (None, 64, 64, 32)        896       \n",
            "                                                                 \n",
            " conv2d_65 (Conv2D)          (None, 62, 62, 32)        9248      \n",
            "                                                                 \n",
            " max_pooling2d_32 (MaxPoolin  (None, 31, 31, 32)       0         \n",
            " g2D)                                                            \n",
            "                                                                 \n",
            " dropout_46 (Dropout)        (None, 31, 31, 32)        0         \n",
            "                                                                 \n",
            " conv2d_66 (Conv2D)          (None, 31, 31, 64)        18496     \n",
            "                                                                 \n",
            " conv2d_67 (Conv2D)          (None, 31, 31, 64)        36928     \n",
            "                                                                 \n",
            " max_pooling2d_33 (MaxPoolin  (None, 15, 15, 64)       0         \n",
            " g2D)                                                            \n",
            "                                                                 \n",
            " dropout_47 (Dropout)        (None, 15, 15, 64)        0         \n",
            "                                                                 \n",
            " flatten_19 (Flatten)        (None, 14400)             0         \n",
            "                                                                 \n",
            " dense_38 (Dense)            (None, 512)               7373312   \n",
            "                                                                 \n",
            " dropout_48 (Dropout)        (None, 512)               0         \n",
            "                                                                 \n",
            " dense_39 (Dense)            (None, 4)                 2052      \n",
            "                                                                 \n",
            "=================================================================\n",
            "Total params: 7,440,932\n",
            "Trainable params: 7,440,932\n",
            "Non-trainable params: 0\n",
            "_________________________________________________________________\n",
            "Epoch 1/15\n",
            "99/99 [==============================] - 70s 703ms/step - loss: 1.4103 - accuracy: 0.2587 - val_loss: 1.3769 - val_accuracy: 0.3261\n",
            "Epoch 2/15\n",
            "99/99 [==============================] - 71s 720ms/step - loss: 1.3071 - accuracy: 0.3865 - val_loss: 1.2487 - val_accuracy: 0.4076\n",
            "Epoch 3/15\n",
            "99/99 [==============================] - 68s 690ms/step - loss: 1.1408 - accuracy: 0.5028 - val_loss: 1.0563 - val_accuracy: 0.5403\n",
            "Epoch 4/15\n",
            "99/99 [==============================] - 68s 690ms/step - loss: 0.9252 - accuracy: 0.6281 - val_loss: 0.8732 - val_accuracy: 0.6588\n",
            "Epoch 5/15\n",
            "99/99 [==============================] - 68s 691ms/step - loss: 0.7138 - accuracy: 0.7343 - val_loss: 0.7143 - val_accuracy: 0.7289\n",
            "Epoch 6/15\n",
            "99/99 [==============================] - 68s 691ms/step - loss: 0.4934 - accuracy: 0.8194 - val_loss: 0.6366 - val_accuracy: 0.7782\n",
            "Epoch 7/15\n",
            "99/99 [==============================] - 68s 690ms/step - loss: 0.3534 - accuracy: 0.8732 - val_loss: 0.5621 - val_accuracy: 0.8227\n",
            "Epoch 8/15\n",
            "99/99 [==============================] - 69s 694ms/step - loss: 0.2461 - accuracy: 0.9156 - val_loss: 0.5404 - val_accuracy: 0.8417\n",
            "Epoch 9/15\n",
            "99/99 [==============================] - 68s 690ms/step - loss: 0.1718 - accuracy: 0.9358 - val_loss: 0.6481 - val_accuracy: 0.8275\n",
            "Epoch 10/15\n",
            "99/99 [==============================] - 68s 687ms/step - loss: 0.1407 - accuracy: 0.9491 - val_loss: 0.6402 - val_accuracy: 0.8436\n",
            "Epoch 11/15\n",
            "99/99 [==============================] - 72s 728ms/step - loss: 0.1038 - accuracy: 0.9668 - val_loss: 0.5608 - val_accuracy: 0.8559\n",
            "Epoch 12/15\n",
            "99/99 [==============================] - 68s 690ms/step - loss: 0.0788 - accuracy: 0.9728 - val_loss: 0.5821 - val_accuracy: 0.8626\n",
            "Epoch 13/15\n",
            "99/99 [==============================] - 68s 686ms/step - loss: 0.0693 - accuracy: 0.9782 - val_loss: 0.6055 - val_accuracy: 0.8626\n",
            "Epoch 14/15\n",
            "99/99 [==============================] - 68s 685ms/step - loss: 0.0605 - accuracy: 0.9813 - val_loss: 0.5840 - val_accuracy: 0.8919\n",
            "Epoch 15/15\n",
            "99/99 [==============================] - 68s 687ms/step - loss: 0.0446 - accuracy: 0.9880 - val_loss: 0.5615 - val_accuracy: 0.8806\n"
          ]
        }
      ]
    },
    {
      "cell_type": "code",
      "source": [
        "plt.plot(r.history['accuracy'], label='accuracy')\n",
        "plt.plot(r.history['val_accuracy'], label = 'val_accuracy')\n",
        "plt.xlabel('Epoch')\n",
        "plt.ylabel('Accuracy')\n",
        "plt.ylim([0.5, 1])\n",
        "plt.legend(loc='lower right')\n",
        "\n",
        "test_loss, test_acc = model.evaluate(x_test,y_test, verbose=2)"
      ],
      "metadata": {
        "colab": {
          "base_uri": "https://localhost:8080/",
          "height": 301
        },
        "id": "qt8E3j8diHzh",
        "outputId": "dc55632a-79a4-4324-ace9-f3602ffbb226"
      },
      "execution_count": 114,
      "outputs": [
        {
          "output_type": "stream",
          "name": "stdout",
          "text": [
            "33/33 - 6s - loss: 0.5615 - accuracy: 0.8806 - 6s/epoch - 185ms/step\n"
          ]
        },
        {
          "output_type": "display_data",
          "data": {
            "text/plain": [
              "<Figure size 432x288 with 1 Axes>"
            ],
            "image/png": "[encoded data removed]"
          },
          "metadata": {
            "needs_background": "light"
          }
        }
      ]
    },
    {
      "cell_type": "code",
      "source": [
        "model.save_weights('Model.h5')\n"
      ],
      "metadata": {
        "id": "Ls5y_DjsJDZw"
      },
      "execution_count": 115,
      "outputs": []
    }
  ]
}